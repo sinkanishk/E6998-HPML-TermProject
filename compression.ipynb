{
 "cells": [
  {
   "cell_type": "code",
   "execution_count": 1,
   "id": "dfaec519",
   "metadata": {},
   "outputs": [],
   "source": [
    "from utils.model_compression_optimum import _compress_model, _retrive_uncompress_matrix\n",
    "import torch\n",
    "import clip"
   ]
  },
  {
   "cell_type": "code",
   "execution_count": 2,
   "id": "07f1bf28",
   "metadata": {},
   "outputs": [],
   "source": [
    "\"\"\"\n",
    "load original clip model\n",
    "\"\"\"\n",
    "device = \"cuda\" if torch.cuda.is_available() else \"cpu\"\n",
    "device = \"cpu\"\n",
    "model, preprocess = clip.load('ViT-B/32', device)"
   ]
  },
  {
   "cell_type": "code",
   "execution_count": 3,
   "id": "8534302b",
   "metadata": {},
   "outputs": [],
   "source": [
    "def compression_tot(clip_compress_state_dict,state_dict):\n",
    "    total_params = 0\n",
    "    for param_tensor in state_dict.values():\n",
    "        total_params += param_tensor.numel()\n",
    "    \n",
    "    total_params_comp = 0\n",
    "    for param_tensor in clip_compress_state_dict.values():\n",
    "        if isinstance(param_tensor,dict)==True:\n",
    "            for key,value in param_tensor.items():\n",
    "                total_params_comp += value.numel()\n",
    "        else:\n",
    "            total_params_comp += param_tensor.numel()\n",
    "    \n",
    "    return (total_params - total_params_comp)/total_params"
   ]
  },
  {
   "cell_type": "code",
   "execution_count": null,
   "id": "5a611cc9",
   "metadata": {},
   "outputs": [],
   "source": []
  },
  {
   "cell_type": "markdown",
   "id": "31a5d830",
   "metadata": {},
   "source": [
    "- Multi-head Attention\n",
    "- - proj_in\n",
    "- - proj_out\n",
    "- MLP\n",
    "- - proj_in\n",
    "- - proj_out"
   ]
  },
  {
   "cell_type": "code",
   "execution_count": 4,
   "id": "00a8904d",
   "metadata": {},
   "outputs": [
    {
     "data": {
      "text/plain": [
       "[0.1, 0.2, 0.30000000000000004, 0.4, 0.5, 0.6, 0.7000000000000001, 0.8, 0.9]"
      ]
     },
     "execution_count": 4,
     "metadata": {},
     "output_type": "execute_result"
    }
   ],
   "source": [
    "# from utils.CLIP_ImageNet import compute_model_performance\n",
    "# CLIP_CIFAR_100\n",
    "from utils.CLIP_CIFAR_100 import compute_model_performance\n",
    "\n",
    "state_dict = model.state_dict()\n",
    "compress_ratio =  [0.1+0.1*i for i in range(9)]\n",
    "compress_ratio"
   ]
  },
  {
   "cell_type": "code",
   "execution_count": 7,
   "id": "02e2aaeb",
   "metadata": {},
   "outputs": [
    {
     "data": {
      "text/plain": [
       "['positional_embedding',\n",
       " 'text_projection',\n",
       " 'logit_scale',\n",
       " 'visual.class_embedding',\n",
       " 'visual.positional_embedding',\n",
       " 'visual.proj',\n",
       " 'visual.conv1.weight',\n",
       " 'visual.ln_pre.weight',\n",
       " 'visual.ln_pre.bias',\n",
       " 'visual.transformer.resblocks.0.attn.in_proj_weight',\n",
       " 'visual.transformer.resblocks.0.attn.in_proj_bias',\n",
       " 'visual.transformer.resblocks.0.attn.out_proj.weight',\n",
       " 'visual.transformer.resblocks.0.attn.out_proj.bias',\n",
       " 'visual.transformer.resblocks.0.ln_1.weight',\n",
       " 'visual.transformer.resblocks.0.ln_1.bias',\n",
       " 'visual.transformer.resblocks.0.mlp.c_fc.weight',\n",
       " 'visual.transformer.resblocks.0.mlp.c_fc.bias',\n",
       " 'visual.transformer.resblocks.0.mlp.c_proj.weight',\n",
       " 'visual.transformer.resblocks.0.mlp.c_proj.bias',\n",
       " 'visual.transformer.resblocks.0.ln_2.weight',\n",
       " 'visual.transformer.resblocks.0.ln_2.bias',\n",
       " 'visual.transformer.resblocks.1.attn.in_proj_weight',\n",
       " 'visual.transformer.resblocks.1.attn.in_proj_bias',\n",
       " 'visual.transformer.resblocks.1.attn.out_proj.weight',\n",
       " 'visual.transformer.resblocks.1.attn.out_proj.bias',\n",
       " 'visual.transformer.resblocks.1.ln_1.weight',\n",
       " 'visual.transformer.resblocks.1.ln_1.bias',\n",
       " 'visual.transformer.resblocks.1.mlp.c_fc.weight',\n",
       " 'visual.transformer.resblocks.1.mlp.c_fc.bias',\n",
       " 'visual.transformer.resblocks.1.mlp.c_proj.weight',\n",
       " 'visual.transformer.resblocks.1.mlp.c_proj.bias',\n",
       " 'visual.transformer.resblocks.1.ln_2.weight',\n",
       " 'visual.transformer.resblocks.1.ln_2.bias',\n",
       " 'visual.transformer.resblocks.2.attn.in_proj_weight',\n",
       " 'visual.transformer.resblocks.2.attn.in_proj_bias',\n",
       " 'visual.transformer.resblocks.2.attn.out_proj.weight',\n",
       " 'visual.transformer.resblocks.2.attn.out_proj.bias',\n",
       " 'visual.transformer.resblocks.2.ln_1.weight',\n",
       " 'visual.transformer.resblocks.2.ln_1.bias',\n",
       " 'visual.transformer.resblocks.2.mlp.c_fc.weight',\n",
       " 'visual.transformer.resblocks.2.mlp.c_fc.bias',\n",
       " 'visual.transformer.resblocks.2.mlp.c_proj.weight',\n",
       " 'visual.transformer.resblocks.2.mlp.c_proj.bias',\n",
       " 'visual.transformer.resblocks.2.ln_2.weight',\n",
       " 'visual.transformer.resblocks.2.ln_2.bias',\n",
       " 'visual.transformer.resblocks.3.attn.in_proj_weight',\n",
       " 'visual.transformer.resblocks.3.attn.in_proj_bias',\n",
       " 'visual.transformer.resblocks.3.attn.out_proj.weight',\n",
       " 'visual.transformer.resblocks.3.attn.out_proj.bias',\n",
       " 'visual.transformer.resblocks.3.ln_1.weight',\n",
       " 'visual.transformer.resblocks.3.ln_1.bias',\n",
       " 'visual.transformer.resblocks.3.mlp.c_fc.weight',\n",
       " 'visual.transformer.resblocks.3.mlp.c_fc.bias',\n",
       " 'visual.transformer.resblocks.3.mlp.c_proj.weight',\n",
       " 'visual.transformer.resblocks.3.mlp.c_proj.bias',\n",
       " 'visual.transformer.resblocks.3.ln_2.weight',\n",
       " 'visual.transformer.resblocks.3.ln_2.bias',\n",
       " 'visual.transformer.resblocks.4.attn.in_proj_weight',\n",
       " 'visual.transformer.resblocks.4.attn.in_proj_bias',\n",
       " 'visual.transformer.resblocks.4.attn.out_proj.weight',\n",
       " 'visual.transformer.resblocks.4.attn.out_proj.bias',\n",
       " 'visual.transformer.resblocks.4.ln_1.weight',\n",
       " 'visual.transformer.resblocks.4.ln_1.bias',\n",
       " 'visual.transformer.resblocks.4.mlp.c_fc.weight',\n",
       " 'visual.transformer.resblocks.4.mlp.c_fc.bias',\n",
       " 'visual.transformer.resblocks.4.mlp.c_proj.weight',\n",
       " 'visual.transformer.resblocks.4.mlp.c_proj.bias',\n",
       " 'visual.transformer.resblocks.4.ln_2.weight',\n",
       " 'visual.transformer.resblocks.4.ln_2.bias',\n",
       " 'visual.transformer.resblocks.5.attn.in_proj_weight',\n",
       " 'visual.transformer.resblocks.5.attn.in_proj_bias',\n",
       " 'visual.transformer.resblocks.5.attn.out_proj.weight',\n",
       " 'visual.transformer.resblocks.5.attn.out_proj.bias',\n",
       " 'visual.transformer.resblocks.5.ln_1.weight',\n",
       " 'visual.transformer.resblocks.5.ln_1.bias',\n",
       " 'visual.transformer.resblocks.5.mlp.c_fc.weight',\n",
       " 'visual.transformer.resblocks.5.mlp.c_fc.bias',\n",
       " 'visual.transformer.resblocks.5.mlp.c_proj.weight',\n",
       " 'visual.transformer.resblocks.5.mlp.c_proj.bias',\n",
       " 'visual.transformer.resblocks.5.ln_2.weight',\n",
       " 'visual.transformer.resblocks.5.ln_2.bias',\n",
       " 'visual.transformer.resblocks.6.attn.in_proj_weight',\n",
       " 'visual.transformer.resblocks.6.attn.in_proj_bias',\n",
       " 'visual.transformer.resblocks.6.attn.out_proj.weight',\n",
       " 'visual.transformer.resblocks.6.attn.out_proj.bias',\n",
       " 'visual.transformer.resblocks.6.ln_1.weight',\n",
       " 'visual.transformer.resblocks.6.ln_1.bias',\n",
       " 'visual.transformer.resblocks.6.mlp.c_fc.weight',\n",
       " 'visual.transformer.resblocks.6.mlp.c_fc.bias',\n",
       " 'visual.transformer.resblocks.6.mlp.c_proj.weight',\n",
       " 'visual.transformer.resblocks.6.mlp.c_proj.bias',\n",
       " 'visual.transformer.resblocks.6.ln_2.weight',\n",
       " 'visual.transformer.resblocks.6.ln_2.bias',\n",
       " 'visual.transformer.resblocks.7.attn.in_proj_weight',\n",
       " 'visual.transformer.resblocks.7.attn.in_proj_bias',\n",
       " 'visual.transformer.resblocks.7.attn.out_proj.weight',\n",
       " 'visual.transformer.resblocks.7.attn.out_proj.bias',\n",
       " 'visual.transformer.resblocks.7.ln_1.weight',\n",
       " 'visual.transformer.resblocks.7.ln_1.bias',\n",
       " 'visual.transformer.resblocks.7.mlp.c_fc.weight',\n",
       " 'visual.transformer.resblocks.7.mlp.c_fc.bias',\n",
       " 'visual.transformer.resblocks.7.mlp.c_proj.weight',\n",
       " 'visual.transformer.resblocks.7.mlp.c_proj.bias',\n",
       " 'visual.transformer.resblocks.7.ln_2.weight',\n",
       " 'visual.transformer.resblocks.7.ln_2.bias',\n",
       " 'visual.transformer.resblocks.8.attn.in_proj_weight',\n",
       " 'visual.transformer.resblocks.8.attn.in_proj_bias',\n",
       " 'visual.transformer.resblocks.8.attn.out_proj.weight',\n",
       " 'visual.transformer.resblocks.8.attn.out_proj.bias',\n",
       " 'visual.transformer.resblocks.8.ln_1.weight',\n",
       " 'visual.transformer.resblocks.8.ln_1.bias',\n",
       " 'visual.transformer.resblocks.8.mlp.c_fc.weight',\n",
       " 'visual.transformer.resblocks.8.mlp.c_fc.bias',\n",
       " 'visual.transformer.resblocks.8.mlp.c_proj.weight',\n",
       " 'visual.transformer.resblocks.8.mlp.c_proj.bias',\n",
       " 'visual.transformer.resblocks.8.ln_2.weight',\n",
       " 'visual.transformer.resblocks.8.ln_2.bias',\n",
       " 'visual.transformer.resblocks.9.attn.in_proj_weight',\n",
       " 'visual.transformer.resblocks.9.attn.in_proj_bias',\n",
       " 'visual.transformer.resblocks.9.attn.out_proj.weight',\n",
       " 'visual.transformer.resblocks.9.attn.out_proj.bias',\n",
       " 'visual.transformer.resblocks.9.ln_1.weight',\n",
       " 'visual.transformer.resblocks.9.ln_1.bias',\n",
       " 'visual.transformer.resblocks.9.mlp.c_fc.weight',\n",
       " 'visual.transformer.resblocks.9.mlp.c_fc.bias',\n",
       " 'visual.transformer.resblocks.9.mlp.c_proj.weight',\n",
       " 'visual.transformer.resblocks.9.mlp.c_proj.bias',\n",
       " 'visual.transformer.resblocks.9.ln_2.weight',\n",
       " 'visual.transformer.resblocks.9.ln_2.bias',\n",
       " 'visual.transformer.resblocks.10.attn.in_proj_weight',\n",
       " 'visual.transformer.resblocks.10.attn.in_proj_bias',\n",
       " 'visual.transformer.resblocks.10.attn.out_proj.weight',\n",
       " 'visual.transformer.resblocks.10.attn.out_proj.bias',\n",
       " 'visual.transformer.resblocks.10.ln_1.weight',\n",
       " 'visual.transformer.resblocks.10.ln_1.bias',\n",
       " 'visual.transformer.resblocks.10.mlp.c_fc.weight',\n",
       " 'visual.transformer.resblocks.10.mlp.c_fc.bias',\n",
       " 'visual.transformer.resblocks.10.mlp.c_proj.weight',\n",
       " 'visual.transformer.resblocks.10.mlp.c_proj.bias',\n",
       " 'visual.transformer.resblocks.10.ln_2.weight',\n",
       " 'visual.transformer.resblocks.10.ln_2.bias',\n",
       " 'visual.transformer.resblocks.11.attn.in_proj_weight',\n",
       " 'visual.transformer.resblocks.11.attn.in_proj_bias',\n",
       " 'visual.transformer.resblocks.11.attn.out_proj.weight',\n",
       " 'visual.transformer.resblocks.11.attn.out_proj.bias',\n",
       " 'visual.transformer.resblocks.11.ln_1.weight',\n",
       " 'visual.transformer.resblocks.11.ln_1.bias',\n",
       " 'visual.transformer.resblocks.11.mlp.c_fc.weight',\n",
       " 'visual.transformer.resblocks.11.mlp.c_fc.bias',\n",
       " 'visual.transformer.resblocks.11.mlp.c_proj.weight',\n",
       " 'visual.transformer.resblocks.11.mlp.c_proj.bias',\n",
       " 'visual.transformer.resblocks.11.ln_2.weight',\n",
       " 'visual.transformer.resblocks.11.ln_2.bias',\n",
       " 'visual.ln_post.weight',\n",
       " 'visual.ln_post.bias',\n",
       " 'transformer.resblocks.0.attn.in_proj_weight',\n",
       " 'transformer.resblocks.0.attn.in_proj_bias',\n",
       " 'transformer.resblocks.0.attn.out_proj.weight',\n",
       " 'transformer.resblocks.0.attn.out_proj.bias',\n",
       " 'transformer.resblocks.0.ln_1.weight',\n",
       " 'transformer.resblocks.0.ln_1.bias',\n",
       " 'transformer.resblocks.0.mlp.c_fc.weight',\n",
       " 'transformer.resblocks.0.mlp.c_fc.bias',\n",
       " 'transformer.resblocks.0.mlp.c_proj.weight',\n",
       " 'transformer.resblocks.0.mlp.c_proj.bias',\n",
       " 'transformer.resblocks.0.ln_2.weight',\n",
       " 'transformer.resblocks.0.ln_2.bias',\n",
       " 'transformer.resblocks.1.attn.in_proj_weight',\n",
       " 'transformer.resblocks.1.attn.in_proj_bias',\n",
       " 'transformer.resblocks.1.attn.out_proj.weight',\n",
       " 'transformer.resblocks.1.attn.out_proj.bias',\n",
       " 'transformer.resblocks.1.ln_1.weight',\n",
       " 'transformer.resblocks.1.ln_1.bias',\n",
       " 'transformer.resblocks.1.mlp.c_fc.weight',\n",
       " 'transformer.resblocks.1.mlp.c_fc.bias',\n",
       " 'transformer.resblocks.1.mlp.c_proj.weight',\n",
       " 'transformer.resblocks.1.mlp.c_proj.bias',\n",
       " 'transformer.resblocks.1.ln_2.weight',\n",
       " 'transformer.resblocks.1.ln_2.bias',\n",
       " 'transformer.resblocks.2.attn.in_proj_weight',\n",
       " 'transformer.resblocks.2.attn.in_proj_bias',\n",
       " 'transformer.resblocks.2.attn.out_proj.weight',\n",
       " 'transformer.resblocks.2.attn.out_proj.bias',\n",
       " 'transformer.resblocks.2.ln_1.weight',\n",
       " 'transformer.resblocks.2.ln_1.bias',\n",
       " 'transformer.resblocks.2.mlp.c_fc.weight',\n",
       " 'transformer.resblocks.2.mlp.c_fc.bias',\n",
       " 'transformer.resblocks.2.mlp.c_proj.weight',\n",
       " 'transformer.resblocks.2.mlp.c_proj.bias',\n",
       " 'transformer.resblocks.2.ln_2.weight',\n",
       " 'transformer.resblocks.2.ln_2.bias',\n",
       " 'transformer.resblocks.3.attn.in_proj_weight',\n",
       " 'transformer.resblocks.3.attn.in_proj_bias',\n",
       " 'transformer.resblocks.3.attn.out_proj.weight',\n",
       " 'transformer.resblocks.3.attn.out_proj.bias',\n",
       " 'transformer.resblocks.3.ln_1.weight',\n",
       " 'transformer.resblocks.3.ln_1.bias',\n",
       " 'transformer.resblocks.3.mlp.c_fc.weight',\n",
       " 'transformer.resblocks.3.mlp.c_fc.bias',\n",
       " 'transformer.resblocks.3.mlp.c_proj.weight',\n",
       " 'transformer.resblocks.3.mlp.c_proj.bias',\n",
       " 'transformer.resblocks.3.ln_2.weight',\n",
       " 'transformer.resblocks.3.ln_2.bias',\n",
       " 'transformer.resblocks.4.attn.in_proj_weight',\n",
       " 'transformer.resblocks.4.attn.in_proj_bias',\n",
       " 'transformer.resblocks.4.attn.out_proj.weight',\n",
       " 'transformer.resblocks.4.attn.out_proj.bias',\n",
       " 'transformer.resblocks.4.ln_1.weight',\n",
       " 'transformer.resblocks.4.ln_1.bias',\n",
       " 'transformer.resblocks.4.mlp.c_fc.weight',\n",
       " 'transformer.resblocks.4.mlp.c_fc.bias',\n",
       " 'transformer.resblocks.4.mlp.c_proj.weight',\n",
       " 'transformer.resblocks.4.mlp.c_proj.bias',\n",
       " 'transformer.resblocks.4.ln_2.weight',\n",
       " 'transformer.resblocks.4.ln_2.bias',\n",
       " 'transformer.resblocks.5.attn.in_proj_weight',\n",
       " 'transformer.resblocks.5.attn.in_proj_bias',\n",
       " 'transformer.resblocks.5.attn.out_proj.weight',\n",
       " 'transformer.resblocks.5.attn.out_proj.bias',\n",
       " 'transformer.resblocks.5.ln_1.weight',\n",
       " 'transformer.resblocks.5.ln_1.bias',\n",
       " 'transformer.resblocks.5.mlp.c_fc.weight',\n",
       " 'transformer.resblocks.5.mlp.c_fc.bias',\n",
       " 'transformer.resblocks.5.mlp.c_proj.weight',\n",
       " 'transformer.resblocks.5.mlp.c_proj.bias',\n",
       " 'transformer.resblocks.5.ln_2.weight',\n",
       " 'transformer.resblocks.5.ln_2.bias',\n",
       " 'transformer.resblocks.6.attn.in_proj_weight',\n",
       " 'transformer.resblocks.6.attn.in_proj_bias',\n",
       " 'transformer.resblocks.6.attn.out_proj.weight',\n",
       " 'transformer.resblocks.6.attn.out_proj.bias',\n",
       " 'transformer.resblocks.6.ln_1.weight',\n",
       " 'transformer.resblocks.6.ln_1.bias',\n",
       " 'transformer.resblocks.6.mlp.c_fc.weight',\n",
       " 'transformer.resblocks.6.mlp.c_fc.bias',\n",
       " 'transformer.resblocks.6.mlp.c_proj.weight',\n",
       " 'transformer.resblocks.6.mlp.c_proj.bias',\n",
       " 'transformer.resblocks.6.ln_2.weight',\n",
       " 'transformer.resblocks.6.ln_2.bias',\n",
       " 'transformer.resblocks.7.attn.in_proj_weight',\n",
       " 'transformer.resblocks.7.attn.in_proj_bias',\n",
       " 'transformer.resblocks.7.attn.out_proj.weight',\n",
       " 'transformer.resblocks.7.attn.out_proj.bias',\n",
       " 'transformer.resblocks.7.ln_1.weight',\n",
       " 'transformer.resblocks.7.ln_1.bias',\n",
       " 'transformer.resblocks.7.mlp.c_fc.weight',\n",
       " 'transformer.resblocks.7.mlp.c_fc.bias',\n",
       " 'transformer.resblocks.7.mlp.c_proj.weight',\n",
       " 'transformer.resblocks.7.mlp.c_proj.bias',\n",
       " 'transformer.resblocks.7.ln_2.weight',\n",
       " 'transformer.resblocks.7.ln_2.bias',\n",
       " 'transformer.resblocks.8.attn.in_proj_weight',\n",
       " 'transformer.resblocks.8.attn.in_proj_bias',\n",
       " 'transformer.resblocks.8.attn.out_proj.weight',\n",
       " 'transformer.resblocks.8.attn.out_proj.bias',\n",
       " 'transformer.resblocks.8.ln_1.weight',\n",
       " 'transformer.resblocks.8.ln_1.bias',\n",
       " 'transformer.resblocks.8.mlp.c_fc.weight',\n",
       " 'transformer.resblocks.8.mlp.c_fc.bias',\n",
       " 'transformer.resblocks.8.mlp.c_proj.weight',\n",
       " 'transformer.resblocks.8.mlp.c_proj.bias',\n",
       " 'transformer.resblocks.8.ln_2.weight',\n",
       " 'transformer.resblocks.8.ln_2.bias',\n",
       " 'transformer.resblocks.9.attn.in_proj_weight',\n",
       " 'transformer.resblocks.9.attn.in_proj_bias',\n",
       " 'transformer.resblocks.9.attn.out_proj.weight',\n",
       " 'transformer.resblocks.9.attn.out_proj.bias',\n",
       " 'transformer.resblocks.9.ln_1.weight',\n",
       " 'transformer.resblocks.9.ln_1.bias',\n",
       " 'transformer.resblocks.9.mlp.c_fc.weight',\n",
       " 'transformer.resblocks.9.mlp.c_fc.bias',\n",
       " 'transformer.resblocks.9.mlp.c_proj.weight',\n",
       " 'transformer.resblocks.9.mlp.c_proj.bias',\n",
       " 'transformer.resblocks.9.ln_2.weight',\n",
       " 'transformer.resblocks.9.ln_2.bias',\n",
       " 'transformer.resblocks.10.attn.in_proj_weight',\n",
       " 'transformer.resblocks.10.attn.in_proj_bias',\n",
       " 'transformer.resblocks.10.attn.out_proj.weight',\n",
       " 'transformer.resblocks.10.attn.out_proj.bias',\n",
       " 'transformer.resblocks.10.ln_1.weight',\n",
       " 'transformer.resblocks.10.ln_1.bias',\n",
       " 'transformer.resblocks.10.mlp.c_fc.weight',\n",
       " 'transformer.resblocks.10.mlp.c_fc.bias',\n",
       " 'transformer.resblocks.10.mlp.c_proj.weight',\n",
       " 'transformer.resblocks.10.mlp.c_proj.bias',\n",
       " 'transformer.resblocks.10.ln_2.weight',\n",
       " 'transformer.resblocks.10.ln_2.bias',\n",
       " 'transformer.resblocks.11.attn.in_proj_weight',\n",
       " 'transformer.resblocks.11.attn.in_proj_bias',\n",
       " 'transformer.resblocks.11.attn.out_proj.weight',\n",
       " 'transformer.resblocks.11.attn.out_proj.bias',\n",
       " 'transformer.resblocks.11.ln_1.weight',\n",
       " 'transformer.resblocks.11.ln_1.bias',\n",
       " 'transformer.resblocks.11.mlp.c_fc.weight',\n",
       " 'transformer.resblocks.11.mlp.c_fc.bias',\n",
       " 'transformer.resblocks.11.mlp.c_proj.weight',\n",
       " 'transformer.resblocks.11.mlp.c_proj.bias',\n",
       " 'transformer.resblocks.11.ln_2.weight',\n",
       " 'transformer.resblocks.11.ln_2.bias',\n",
       " 'token_embedding.weight',\n",
       " 'ln_final.weight',\n",
       " 'ln_final.bias']"
      ]
     },
     "execution_count": 7,
     "metadata": {},
     "output_type": "execute_result"
    }
   ],
   "source": [
    "list(state_dict.keys())"
   ]
  },
  {
   "cell_type": "code",
   "execution_count": 5,
   "id": "2863fe1d",
   "metadata": {},
   "outputs": [
    {
     "name": "stdout",
     "output_type": "stream",
     "text": [
      "key-visual.transformer.resblocks.0.attn.in_proj_weight gonna be compressed\n",
      "key-visual.transformer.resblocks.0.attn.out_proj.weight gonna be compressed\n",
      "0.014051869099499407\n",
      "Files already downloaded and verified\n",
      "CLIP model loaded\n"
     ]
    },
    {
     "name": "stderr",
     "output_type": "stream",
     "text": [
      "Inference: 100%|███████████████████████████████████████████████████████████████████████████████████████████████████████████████████████████████████| 313/313 [00:39<00:00,  7.83it/s]\n"
     ]
    },
    {
     "name": "stdout",
     "output_type": "stream",
     "text": [
      "Top-1 accuracy is 0.4599358974358974\n",
      "Top-5 accuracy is 0.6880008012820513\n",
      "{0.1: {1: {'perf': {'top-1': 0.4599358974358974, 'top-5': 0.6880008012820513}, 'comp': 0.014051869099499407}}}\n",
      "key-visual.transformer.resblocks.0.attn.in_proj_weight gonna be compressed\n",
      "key-visual.transformer.resblocks.0.attn.out_proj.weight gonna be compressed\n",
      "key-visual.transformer.resblocks.1.attn.in_proj_weight gonna be compressed\n",
      "key-visual.transformer.resblocks.1.attn.out_proj.weight gonna be compressed\n",
      "0.028103738198998814\n",
      "Files already downloaded and verified\n",
      "CLIP model loaded\n"
     ]
    },
    {
     "name": "stderr",
     "output_type": "stream",
     "text": [
      "Inference: 100%|███████████████████████████████████████████████████████████████████████████████████████████████████████████████████████████████████| 313/313 [00:40<00:00,  7.80it/s]\n"
     ]
    },
    {
     "name": "stdout",
     "output_type": "stream",
     "text": [
      "Top-1 accuracy is 0.34064503205128205\n",
      "Top-5 accuracy is 0.5608974358974359\n",
      "{0.1: {1: {'perf': {'top-1': 0.4599358974358974, 'top-5': 0.6880008012820513}, 'comp': 0.014051869099499407}, 2: {'perf': {'top-1': 0.34064503205128205, 'top-5': 0.5608974358974359}, 'comp': 0.028103738198998814}}}\n",
      "key-visual.transformer.resblocks.0.attn.in_proj_weight gonna be compressed\n",
      "key-visual.transformer.resblocks.0.attn.out_proj.weight gonna be compressed\n",
      "key-visual.transformer.resblocks.1.attn.in_proj_weight gonna be compressed\n",
      "key-visual.transformer.resblocks.1.attn.out_proj.weight gonna be compressed\n",
      "key-visual.transformer.resblocks.2.attn.in_proj_weight gonna be compressed\n",
      "key-visual.transformer.resblocks.2.attn.out_proj.weight gonna be compressed\n",
      "0.042155607298498224\n",
      "Files already downloaded and verified\n",
      "CLIP model loaded\n"
     ]
    },
    {
     "name": "stderr",
     "output_type": "stream",
     "text": [
      "Inference: 100%|███████████████████████████████████████████████████████████████████████████████████████████████████████████████████████████████████| 313/313 [00:40<00:00,  7.73it/s]\n"
     ]
    },
    {
     "name": "stdout",
     "output_type": "stream",
     "text": [
      "Top-1 accuracy is 0.2063301282051282\n",
      "Top-5 accuracy is 0.3805088141025641\n",
      "{0.1: {1: {'perf': {'top-1': 0.4599358974358974, 'top-5': 0.6880008012820513}, 'comp': 0.014051869099499407}, 2: {'perf': {'top-1': 0.34064503205128205, 'top-5': 0.5608974358974359}, 'comp': 0.028103738198998814}, 3: {'perf': {'top-1': 0.2063301282051282, 'top-5': 0.3805088141025641}, 'comp': 0.042155607298498224}}}\n",
      "key-visual.transformer.resblocks.0.attn.in_proj_weight gonna be compressed\n",
      "key-visual.transformer.resblocks.0.attn.out_proj.weight gonna be compressed\n",
      "key-visual.transformer.resblocks.1.attn.in_proj_weight gonna be compressed\n",
      "key-visual.transformer.resblocks.1.attn.out_proj.weight gonna be compressed\n",
      "key-visual.transformer.resblocks.2.attn.in_proj_weight gonna be compressed\n",
      "key-visual.transformer.resblocks.2.attn.out_proj.weight gonna be compressed\n",
      "key-visual.transformer.resblocks.3.attn.in_proj_weight gonna be compressed\n",
      "key-visual.transformer.resblocks.3.attn.out_proj.weight gonna be compressed\n",
      "0.05620747639799763\n",
      "Files already downloaded and verified\n",
      "CLIP model loaded\n"
     ]
    },
    {
     "name": "stderr",
     "output_type": "stream",
     "text": [
      "Inference: 100%|███████████████████████████████████████████████████████████████████████████████████████████████████████████████████████████████████| 313/313 [00:40<00:00,  7.76it/s]\n"
     ]
    },
    {
     "name": "stdout",
     "output_type": "stream",
     "text": [
      "Top-1 accuracy is 0.04056490384615385\n",
      "Top-5 accuracy is 0.12109375\n",
      "{0.1: {1: {'perf': {'top-1': 0.4599358974358974, 'top-5': 0.6880008012820513}, 'comp': 0.014051869099499407}, 2: {'perf': {'top-1': 0.34064503205128205, 'top-5': 0.5608974358974359}, 'comp': 0.028103738198998814}, 3: {'perf': {'top-1': 0.2063301282051282, 'top-5': 0.3805088141025641}, 'comp': 0.042155607298498224}, 4: {'perf': {'top-1': 0.04056490384615385, 'top-5': 0.12109375}, 'comp': 0.05620747639799763}}}\n",
      "key-visual.transformer.resblocks.0.attn.in_proj_weight gonna be compressed\n",
      "key-visual.transformer.resblocks.0.attn.out_proj.weight gonna be compressed\n",
      "key-visual.transformer.resblocks.1.attn.in_proj_weight gonna be compressed\n",
      "key-visual.transformer.resblocks.1.attn.out_proj.weight gonna be compressed\n",
      "key-visual.transformer.resblocks.2.attn.in_proj_weight gonna be compressed\n",
      "key-visual.transformer.resblocks.2.attn.out_proj.weight gonna be compressed\n",
      "key-visual.transformer.resblocks.3.attn.in_proj_weight gonna be compressed\n",
      "key-visual.transformer.resblocks.3.attn.out_proj.weight gonna be compressed\n",
      "key-visual.transformer.resblocks.4.attn.in_proj_weight gonna be compressed\n",
      "key-visual.transformer.resblocks.4.attn.out_proj.weight gonna be compressed\n",
      "0.07025934549749703\n",
      "Files already downloaded and verified\n",
      "CLIP model loaded\n"
     ]
    },
    {
     "name": "stderr",
     "output_type": "stream",
     "text": [
      "Inference:  32%|█████████████████████████████████████████▊                                                                                          | 99/313 [00:12<00:27,  7.67it/s]\n"
     ]
    },
    {
     "ename": "KeyboardInterrupt",
     "evalue": "",
     "output_type": "error",
     "traceback": [
      "\u001b[0;31m---------------------------------------------------------------------------\u001b[0m",
      "\u001b[0;31mKeyboardInterrupt\u001b[0m                         Traceback (most recent call last)",
      "\u001b[0;32m/var/tmp/ipykernel_28615/1699438360.py\u001b[0m in \u001b[0;36m<module>\u001b[0;34m\u001b[0m\n\u001b[1;32m     10\u001b[0m         \u001b[0mclip_uncompress_state_dict\u001b[0m \u001b[0;34m=\u001b[0m \u001b[0m_retrive_uncompress_matrix\u001b[0m\u001b[0;34m(\u001b[0m\u001b[0mclip_compress_state_dict\u001b[0m\u001b[0;34m)\u001b[0m\u001b[0;34m\u001b[0m\u001b[0;34m\u001b[0m\u001b[0m\n\u001b[1;32m     11\u001b[0m         \u001b[0mprint\u001b[0m\u001b[0;34m(\u001b[0m\u001b[0mcompression_tot\u001b[0m\u001b[0;34m(\u001b[0m\u001b[0mclip_compress_state_dict\u001b[0m\u001b[0;34m,\u001b[0m\u001b[0mstate_dict\u001b[0m\u001b[0;34m)\u001b[0m\u001b[0;34m)\u001b[0m\u001b[0;34m\u001b[0m\u001b[0;34m\u001b[0m\u001b[0m\n\u001b[0;32m---> 12\u001b[0;31m         \u001b[0mresult\u001b[0m\u001b[0;34m[\u001b[0m\u001b[0mratio\u001b[0m\u001b[0;34m]\u001b[0m\u001b[0;34m[\u001b[0m\u001b[0mlayer\u001b[0m\u001b[0;34m]\u001b[0m\u001b[0;34m[\u001b[0m\u001b[0;34m'perf'\u001b[0m\u001b[0;34m]\u001b[0m \u001b[0;34m=\u001b[0m \u001b[0mcompute_model_performance\u001b[0m\u001b[0;34m(\u001b[0m\u001b[0mclip_uncompress_state_dict\u001b[0m\u001b[0;34m)\u001b[0m\u001b[0;34m\u001b[0m\u001b[0;34m\u001b[0m\u001b[0m\n\u001b[0m\u001b[1;32m     13\u001b[0m         \u001b[0mresult\u001b[0m\u001b[0;34m[\u001b[0m\u001b[0mratio\u001b[0m\u001b[0;34m]\u001b[0m\u001b[0;34m[\u001b[0m\u001b[0mlayer\u001b[0m\u001b[0;34m]\u001b[0m\u001b[0;34m[\u001b[0m\u001b[0;34m'comp'\u001b[0m\u001b[0;34m]\u001b[0m \u001b[0;34m=\u001b[0m \u001b[0mcompression_tot\u001b[0m\u001b[0;34m(\u001b[0m\u001b[0mclip_compress_state_dict\u001b[0m\u001b[0;34m,\u001b[0m\u001b[0mstate_dict\u001b[0m\u001b[0;34m)\u001b[0m\u001b[0;34m\u001b[0m\u001b[0;34m\u001b[0m\u001b[0m\n\u001b[1;32m     14\u001b[0m         \u001b[0mprint\u001b[0m\u001b[0;34m(\u001b[0m\u001b[0mresult\u001b[0m\u001b[0;34m)\u001b[0m\u001b[0;34m\u001b[0m\u001b[0;34m\u001b[0m\u001b[0m\n",
      "\u001b[0;32m~/hpml_project/E6998/E6998-HPML-TermProject/utils/CLIP_CIFAR_100.py\u001b[0m in \u001b[0;36mcompute_model_performance\u001b[0;34m(model_dict)\u001b[0m\n\u001b[1;32m     63\u001b[0m     \u001b[0;32mfor\u001b[0m \u001b[0midx\u001b[0m\u001b[0;34m,\u001b[0m \u001b[0mitem\u001b[0m \u001b[0;32min\u001b[0m \u001b[0menumerate\u001b[0m\u001b[0;34m(\u001b[0m\u001b[0mtqdm\u001b[0m\u001b[0;34m(\u001b[0m\u001b[0mtestloader\u001b[0m\u001b[0;34m,\u001b[0m\u001b[0mdesc\u001b[0m\u001b[0;34m=\u001b[0m\u001b[0;34m\"Inference\"\u001b[0m\u001b[0;34m)\u001b[0m\u001b[0;34m)\u001b[0m\u001b[0;34m:\u001b[0m\u001b[0;34m\u001b[0m\u001b[0;34m\u001b[0m\u001b[0m\n\u001b[1;32m     64\u001b[0m         \u001b[0;32mwith\u001b[0m \u001b[0mtorch\u001b[0m\u001b[0;34m.\u001b[0m\u001b[0mno_grad\u001b[0m\u001b[0;34m(\u001b[0m\u001b[0;34m)\u001b[0m\u001b[0;34m:\u001b[0m\u001b[0;34m\u001b[0m\u001b[0;34m\u001b[0m\u001b[0m\n\u001b[0;32m---> 65\u001b[0;31m             \u001b[0mitem\u001b[0m \u001b[0;34m=\u001b[0m \u001b[0mitem\u001b[0m\u001b[0;34m.\u001b[0m\u001b[0mto\u001b[0m\u001b[0;34m(\u001b[0m\u001b[0mdevice\u001b[0m\u001b[0;34m)\u001b[0m\u001b[0;34m\u001b[0m\u001b[0;34m\u001b[0m\u001b[0m\n\u001b[0m\u001b[1;32m     66\u001b[0m             \u001b[0moutputs\u001b[0m \u001b[0;34m=\u001b[0m \u001b[0mmodel\u001b[0m\u001b[0;34m.\u001b[0m\u001b[0mencode_image\u001b[0m\u001b[0;34m(\u001b[0m\u001b[0mitem\u001b[0m\u001b[0;34m)\u001b[0m\u001b[0;34m.\u001b[0m\u001b[0mfloat\u001b[0m\u001b[0;34m(\u001b[0m\u001b[0;34m)\u001b[0m\u001b[0;34m\u001b[0m\u001b[0;34m\u001b[0m\u001b[0m\n\u001b[1;32m     67\u001b[0m \u001b[0;34m\u001b[0m\u001b[0m\n",
      "\u001b[0;31mKeyboardInterrupt\u001b[0m: "
     ]
    }
   ],
   "source": [
    "# Attention with CIFAR\n",
    "r_blocks = ['.resblocks.1.attn.']\n",
    "n_layers = [i+1 for i in range(9)]\n",
    "result = {}\n",
    "for ratio in compress_ratio:\n",
    "    result[ratio] = {}\n",
    "    for layer in n_layers:\n",
    "        result[ratio][layer] = {}\n",
    "        clip_compress_state_dict, layers_skipped = _compress_model(state_dict, ratio, layer, True, True, r_blocks,0)\n",
    "        clip_uncompress_state_dict = _retrive_uncompress_matrix(clip_compress_state_dict)\n",
    "        print(compression_tot(clip_compress_state_dict,state_dict))\n",
    "        result[ratio][layer]['perf'] = compute_model_performance(clip_uncompress_state_dict)\n",
    "        result[ratio][layer]['comp'] = compression_tot(clip_compress_state_dict,state_dict)\n",
    "        print(result)"
   ]
  },
  {
   "cell_type": "code",
   "execution_count": 8,
   "id": "f505f1aa",
   "metadata": {},
   "outputs": [
    {
     "name": "stdout",
     "output_type": "stream",
     "text": [
      "key-visual.transformer.resblocks.0.attn.in_proj_weight gonna be compressed\n",
      "key-visual.transformer.resblocks.0.attn.out_proj.weight gonna be compressed\n",
      "0.014051869099499407\n"
     ]
    },
    {
     "data": {
      "application/json": {
       "ascii": false,
       "bar_format": null,
       "colour": null,
       "elapsed": 0.011344671249389648,
       "initial": 0,
       "n": 0,
       "ncols": null,
       "nrows": 14,
       "postfix": null,
       "prefix": "",
       "rate": null,
       "total": 1000,
       "unit": "it",
       "unit_divisor": 1000,
       "unit_scale": false
      },
      "application/vnd.jupyter.widget-view+json": {
       "model_id": "3f7516c2579148c9b095bdcc1c15f524",
       "version_major": 2,
       "version_minor": 0
      },
      "text/plain": [
       "  0%|          | 0/1000 [00:00<?, ?it/s]"
      ]
     },
     "metadata": {},
     "output_type": "display_data"
    },
    {
     "data": {
      "application/json": {
       "ascii": false,
       "bar_format": null,
       "colour": null,
       "elapsed": 0.009673595428466797,
       "initial": 0,
       "n": 0,
       "ncols": null,
       "nrows": 14,
       "postfix": null,
       "prefix": "",
       "rate": null,
       "total": 313,
       "unit": "it",
       "unit_divisor": 1000,
       "unit_scale": false
      },
      "application/vnd.jupyter.widget-view+json": {
       "model_id": "bdcf0047ac60417ab2aa706b89757aa1",
       "version_major": 2,
       "version_minor": 0
      },
      "text/plain": [
       "  0%|          | 0/313 [00:00<?, ?it/s]"
      ]
     },
     "metadata": {},
     "output_type": "display_data"
    },
    {
     "name": "stdout",
     "output_type": "stream",
     "text": [
      "{0.1: {1: {'perf': {'top-1': 54.97, 'top-5': 82.3}, 'comp': 0.014051869099499407}}}\n",
      "key-visual.transformer.resblocks.0.attn.in_proj_weight gonna be compressed\n",
      "key-visual.transformer.resblocks.0.attn.out_proj.weight gonna be compressed\n",
      "key-visual.transformer.resblocks.1.attn.in_proj_weight gonna be compressed\n",
      "key-visual.transformer.resblocks.1.attn.out_proj.weight gonna be compressed\n",
      "0.028103738198998814\n"
     ]
    },
    {
     "data": {
      "application/json": {
       "ascii": false,
       "bar_format": null,
       "colour": null,
       "elapsed": 0.010532855987548828,
       "initial": 0,
       "n": 0,
       "ncols": null,
       "nrows": 14,
       "postfix": null,
       "prefix": "",
       "rate": null,
       "total": 1000,
       "unit": "it",
       "unit_divisor": 1000,
       "unit_scale": false
      },
      "application/vnd.jupyter.widget-view+json": {
       "model_id": "ece90d494ce74d1685618d304e2a5e31",
       "version_major": 2,
       "version_minor": 0
      },
      "text/plain": [
       "  0%|          | 0/1000 [00:00<?, ?it/s]"
      ]
     },
     "metadata": {},
     "output_type": "display_data"
    },
    {
     "data": {
      "application/json": {
       "ascii": false,
       "bar_format": null,
       "colour": null,
       "elapsed": 0.01067495346069336,
       "initial": 0,
       "n": 0,
       "ncols": null,
       "nrows": 14,
       "postfix": null,
       "prefix": "",
       "rate": null,
       "total": 313,
       "unit": "it",
       "unit_divisor": 1000,
       "unit_scale": false
      },
      "application/vnd.jupyter.widget-view+json": {
       "model_id": "6fd9f911868841ada3b6a7636e09d54b",
       "version_major": 2,
       "version_minor": 0
      },
      "text/plain": [
       "  0%|          | 0/313 [00:00<?, ?it/s]"
      ]
     },
     "metadata": {},
     "output_type": "display_data"
    },
    {
     "name": "stdout",
     "output_type": "stream",
     "text": [
      "{0.1: {1: {'perf': {'top-1': 54.97, 'top-5': 82.3}, 'comp': 0.014051869099499407}, 2: {'perf': {'top-1': 52.03, 'top-5': 79.69000000000001}, 'comp': 0.028103738198998814}}}\n",
      "key-visual.transformer.resblocks.0.attn.in_proj_weight gonna be compressed\n",
      "key-visual.transformer.resblocks.0.attn.out_proj.weight gonna be compressed\n",
      "key-visual.transformer.resblocks.1.attn.in_proj_weight gonna be compressed\n",
      "key-visual.transformer.resblocks.1.attn.out_proj.weight gonna be compressed\n",
      "key-visual.transformer.resblocks.2.attn.in_proj_weight gonna be compressed\n",
      "key-visual.transformer.resblocks.2.attn.out_proj.weight gonna be compressed\n",
      "0.042155607298498224\n"
     ]
    },
    {
     "data": {
      "application/json": {
       "ascii": false,
       "bar_format": null,
       "colour": null,
       "elapsed": 0.009941339492797852,
       "initial": 0,
       "n": 0,
       "ncols": null,
       "nrows": 14,
       "postfix": null,
       "prefix": "",
       "rate": null,
       "total": 1000,
       "unit": "it",
       "unit_divisor": 1000,
       "unit_scale": false
      },
      "application/vnd.jupyter.widget-view+json": {
       "model_id": "f460bb54fb72442bb127ff583cad418f",
       "version_major": 2,
       "version_minor": 0
      },
      "text/plain": [
       "  0%|          | 0/1000 [00:00<?, ?it/s]"
      ]
     },
     "metadata": {},
     "output_type": "display_data"
    },
    {
     "data": {
      "application/json": {
       "ascii": false,
       "bar_format": null,
       "colour": null,
       "elapsed": 0.009688615798950195,
       "initial": 0,
       "n": 0,
       "ncols": null,
       "nrows": 14,
       "postfix": null,
       "prefix": "",
       "rate": null,
       "total": 313,
       "unit": "it",
       "unit_divisor": 1000,
       "unit_scale": false
      },
      "application/vnd.jupyter.widget-view+json": {
       "model_id": "20dd1f1eb26d4107b00ed7eb23d28e53",
       "version_major": 2,
       "version_minor": 0
      },
      "text/plain": [
       "  0%|          | 0/313 [00:00<?, ?it/s]"
      ]
     },
     "metadata": {},
     "output_type": "display_data"
    },
    {
     "name": "stdout",
     "output_type": "stream",
     "text": [
      "{0.1: {1: {'perf': {'top-1': 54.97, 'top-5': 82.3}, 'comp': 0.014051869099499407}, 2: {'perf': {'top-1': 52.03, 'top-5': 79.69000000000001}, 'comp': 0.028103738198998814}, 3: {'perf': {'top-1': 43.769999999999996, 'top-5': 71.84}, 'comp': 0.042155607298498224}}}\n",
      "key-visual.transformer.resblocks.0.attn.in_proj_weight gonna be compressed\n",
      "key-visual.transformer.resblocks.0.attn.out_proj.weight gonna be compressed\n",
      "key-visual.transformer.resblocks.1.attn.in_proj_weight gonna be compressed\n",
      "key-visual.transformer.resblocks.1.attn.out_proj.weight gonna be compressed\n",
      "key-visual.transformer.resblocks.2.attn.in_proj_weight gonna be compressed\n",
      "key-visual.transformer.resblocks.2.attn.out_proj.weight gonna be compressed\n",
      "key-visual.transformer.resblocks.3.attn.in_proj_weight gonna be compressed\n",
      "key-visual.transformer.resblocks.3.attn.out_proj.weight gonna be compressed\n",
      "0.05620747639799763\n"
     ]
    },
    {
     "data": {
      "application/json": {
       "ascii": false,
       "bar_format": null,
       "colour": null,
       "elapsed": 0.010297775268554688,
       "initial": 0,
       "n": 0,
       "ncols": null,
       "nrows": 14,
       "postfix": null,
       "prefix": "",
       "rate": null,
       "total": 1000,
       "unit": "it",
       "unit_divisor": 1000,
       "unit_scale": false
      },
      "application/vnd.jupyter.widget-view+json": {
       "model_id": "f0aa900dd81b40cb8210946d9c6e6bd7",
       "version_major": 2,
       "version_minor": 0
      },
      "text/plain": [
       "  0%|          | 0/1000 [00:00<?, ?it/s]"
      ]
     },
     "metadata": {},
     "output_type": "display_data"
    },
    {
     "data": {
      "application/json": {
       "ascii": false,
       "bar_format": null,
       "colour": null,
       "elapsed": 0.008724451065063477,
       "initial": 0,
       "n": 0,
       "ncols": null,
       "nrows": 14,
       "postfix": null,
       "prefix": "",
       "rate": null,
       "total": 313,
       "unit": "it",
       "unit_divisor": 1000,
       "unit_scale": false
      },
      "application/vnd.jupyter.widget-view+json": {
       "model_id": "2a137c967ddd4ec19a8dd6be02ade126",
       "version_major": 2,
       "version_minor": 0
      },
      "text/plain": [
       "  0%|          | 0/313 [00:00<?, ?it/s]"
      ]
     },
     "metadata": {},
     "output_type": "display_data"
    },
    {
     "name": "stdout",
     "output_type": "stream",
     "text": [
      "{0.1: {1: {'perf': {'top-1': 54.97, 'top-5': 82.3}, 'comp': 0.014051869099499407}, 2: {'perf': {'top-1': 52.03, 'top-5': 79.69000000000001}, 'comp': 0.028103738198998814}, 3: {'perf': {'top-1': 43.769999999999996, 'top-5': 71.84}, 'comp': 0.042155607298498224}, 4: {'perf': {'top-1': 20.25, 'top-5': 41.660000000000004}, 'comp': 0.05620747639799763}}}\n",
      "key-visual.transformer.resblocks.0.attn.in_proj_weight gonna be compressed\n",
      "key-visual.transformer.resblocks.0.attn.out_proj.weight gonna be compressed\n",
      "key-visual.transformer.resblocks.1.attn.in_proj_weight gonna be compressed\n",
      "key-visual.transformer.resblocks.1.attn.out_proj.weight gonna be compressed\n",
      "key-visual.transformer.resblocks.2.attn.in_proj_weight gonna be compressed\n",
      "key-visual.transformer.resblocks.2.attn.out_proj.weight gonna be compressed\n",
      "key-visual.transformer.resblocks.3.attn.in_proj_weight gonna be compressed\n",
      "key-visual.transformer.resblocks.3.attn.out_proj.weight gonna be compressed\n",
      "key-visual.transformer.resblocks.4.attn.in_proj_weight gonna be compressed\n",
      "key-visual.transformer.resblocks.4.attn.out_proj.weight gonna be compressed\n",
      "0.07025934549749703\n"
     ]
    },
    {
     "data": {
      "application/json": {
       "ascii": false,
       "bar_format": null,
       "colour": null,
       "elapsed": 0.008859872817993164,
       "initial": 0,
       "n": 0,
       "ncols": null,
       "nrows": 14,
       "postfix": null,
       "prefix": "",
       "rate": null,
       "total": 1000,
       "unit": "it",
       "unit_divisor": 1000,
       "unit_scale": false
      },
      "application/vnd.jupyter.widget-view+json": {
       "model_id": "2f97fd0516c2404c9b570d70dc5e5562",
       "version_major": 2,
       "version_minor": 0
      },
      "text/plain": [
       "  0%|          | 0/1000 [00:00<?, ?it/s]"
      ]
     },
     "metadata": {},
     "output_type": "display_data"
    },
    {
     "data": {
      "application/json": {
       "ascii": false,
       "bar_format": null,
       "colour": null,
       "elapsed": 0.00911259651184082,
       "initial": 0,
       "n": 0,
       "ncols": null,
       "nrows": 14,
       "postfix": null,
       "prefix": "",
       "rate": null,
       "total": 313,
       "unit": "it",
       "unit_divisor": 1000,
       "unit_scale": false
      },
      "application/vnd.jupyter.widget-view+json": {
       "model_id": "558617ef95234f7c9fbb7fd9ee523aa8",
       "version_major": 2,
       "version_minor": 0
      },
      "text/plain": [
       "  0%|          | 0/313 [00:00<?, ?it/s]"
      ]
     },
     "metadata": {},
     "output_type": "display_data"
    },
    {
     "name": "stdout",
     "output_type": "stream",
     "text": [
      "{0.1: {1: {'perf': {'top-1': 54.97, 'top-5': 82.3}, 'comp': 0.014051869099499407}, 2: {'perf': {'top-1': 52.03, 'top-5': 79.69000000000001}, 'comp': 0.028103738198998814}, 3: {'perf': {'top-1': 43.769999999999996, 'top-5': 71.84}, 'comp': 0.042155607298498224}, 4: {'perf': {'top-1': 20.25, 'top-5': 41.660000000000004}, 'comp': 0.05620747639799763}, 5: {'perf': {'top-1': 8.59, 'top-5': 21.310000000000002}, 'comp': 0.07025934549749703}}}\n",
      "key-visual.transformer.resblocks.0.attn.in_proj_weight gonna be compressed\n",
      "key-visual.transformer.resblocks.0.attn.out_proj.weight gonna be compressed\n",
      "key-visual.transformer.resblocks.1.attn.in_proj_weight gonna be compressed\n",
      "key-visual.transformer.resblocks.1.attn.out_proj.weight gonna be compressed\n",
      "key-visual.transformer.resblocks.2.attn.in_proj_weight gonna be compressed\n",
      "key-visual.transformer.resblocks.2.attn.out_proj.weight gonna be compressed\n",
      "key-visual.transformer.resblocks.3.attn.in_proj_weight gonna be compressed\n",
      "key-visual.transformer.resblocks.3.attn.out_proj.weight gonna be compressed\n",
      "key-visual.transformer.resblocks.4.attn.in_proj_weight gonna be compressed\n",
      "key-visual.transformer.resblocks.4.attn.out_proj.weight gonna be compressed\n",
      "key-visual.transformer.resblocks.5.attn.in_proj_weight gonna be compressed\n",
      "key-visual.transformer.resblocks.5.attn.out_proj.weight gonna be compressed\n",
      "0.08431121459699645\n"
     ]
    },
    {
     "data": {
      "application/json": {
       "ascii": false,
       "bar_format": null,
       "colour": null,
       "elapsed": 0.011616706848144531,
       "initial": 0,
       "n": 0,
       "ncols": null,
       "nrows": 14,
       "postfix": null,
       "prefix": "",
       "rate": null,
       "total": 1000,
       "unit": "it",
       "unit_divisor": 1000,
       "unit_scale": false
      },
      "application/vnd.jupyter.widget-view+json": {
       "model_id": "bed5215224b0472aadf4ad72d4a88586",
       "version_major": 2,
       "version_minor": 0
      },
      "text/plain": [
       "  0%|          | 0/1000 [00:00<?, ?it/s]"
      ]
     },
     "metadata": {},
     "output_type": "display_data"
    },
    {
     "data": {
      "application/json": {
       "ascii": false,
       "bar_format": null,
       "colour": null,
       "elapsed": 0.010128021240234375,
       "initial": 0,
       "n": 0,
       "ncols": null,
       "nrows": 14,
       "postfix": null,
       "prefix": "",
       "rate": null,
       "total": 313,
       "unit": "it",
       "unit_divisor": 1000,
       "unit_scale": false
      },
      "application/vnd.jupyter.widget-view+json": {
       "model_id": "b895cb1e5b5741299ddcec0dfe163baa",
       "version_major": 2,
       "version_minor": 0
      },
      "text/plain": [
       "  0%|          | 0/313 [00:00<?, ?it/s]"
      ]
     },
     "metadata": {},
     "output_type": "display_data"
    },
    {
     "name": "stdout",
     "output_type": "stream",
     "text": [
      "{0.1: {1: {'perf': {'top-1': 54.97, 'top-5': 82.3}, 'comp': 0.014051869099499407}, 2: {'perf': {'top-1': 52.03, 'top-5': 79.69000000000001}, 'comp': 0.028103738198998814}, 3: {'perf': {'top-1': 43.769999999999996, 'top-5': 71.84}, 'comp': 0.042155607298498224}, 4: {'perf': {'top-1': 20.25, 'top-5': 41.660000000000004}, 'comp': 0.05620747639799763}, 5: {'perf': {'top-1': 8.59, 'top-5': 21.310000000000002}, 'comp': 0.07025934549749703}, 6: {'perf': {'top-1': 1.8900000000000001, 'top-5': 5.779999999999999}, 'comp': 0.08431121459699645}}}\n",
      "key-visual.transformer.resblocks.0.attn.in_proj_weight gonna be compressed\n",
      "key-visual.transformer.resblocks.0.attn.out_proj.weight gonna be compressed\n",
      "key-visual.transformer.resblocks.1.attn.in_proj_weight gonna be compressed\n",
      "key-visual.transformer.resblocks.1.attn.out_proj.weight gonna be compressed\n",
      "key-visual.transformer.resblocks.2.attn.in_proj_weight gonna be compressed\n",
      "key-visual.transformer.resblocks.2.attn.out_proj.weight gonna be compressed\n",
      "key-visual.transformer.resblocks.3.attn.in_proj_weight gonna be compressed\n",
      "key-visual.transformer.resblocks.3.attn.out_proj.weight gonna be compressed\n",
      "key-visual.transformer.resblocks.4.attn.in_proj_weight gonna be compressed\n",
      "key-visual.transformer.resblocks.4.attn.out_proj.weight gonna be compressed\n",
      "key-visual.transformer.resblocks.5.attn.in_proj_weight gonna be compressed\n",
      "key-visual.transformer.resblocks.5.attn.out_proj.weight gonna be compressed\n",
      "key-visual.transformer.resblocks.6.attn.in_proj_weight gonna be compressed\n",
      "key-visual.transformer.resblocks.6.attn.out_proj.weight gonna be compressed\n",
      "0.09836308369649585\n"
     ]
    },
    {
     "data": {
      "application/json": {
       "ascii": false,
       "bar_format": null,
       "colour": null,
       "elapsed": 0.010053157806396484,
       "initial": 0,
       "n": 0,
       "ncols": null,
       "nrows": 14,
       "postfix": null,
       "prefix": "",
       "rate": null,
       "total": 1000,
       "unit": "it",
       "unit_divisor": 1000,
       "unit_scale": false
      },
      "application/vnd.jupyter.widget-view+json": {
       "model_id": "733eede5e5754f8ca93e7ad8f1fe3665",
       "version_major": 2,
       "version_minor": 0
      },
      "text/plain": [
       "  0%|          | 0/1000 [00:00<?, ?it/s]"
      ]
     },
     "metadata": {},
     "output_type": "display_data"
    },
    {
     "data": {
      "application/json": {
       "ascii": false,
       "bar_format": null,
       "colour": null,
       "elapsed": 0.009533166885375977,
       "initial": 0,
       "n": 0,
       "ncols": null,
       "nrows": 14,
       "postfix": null,
       "prefix": "",
       "rate": null,
       "total": 313,
       "unit": "it",
       "unit_divisor": 1000,
       "unit_scale": false
      },
      "application/vnd.jupyter.widget-view+json": {
       "model_id": "b5c40ab86b8a401997fa4cdf8f5ca8a7",
       "version_major": 2,
       "version_minor": 0
      },
      "text/plain": [
       "  0%|          | 0/313 [00:00<?, ?it/s]"
      ]
     },
     "metadata": {},
     "output_type": "display_data"
    },
    {
     "ename": "KeyboardInterrupt",
     "evalue": "",
     "output_type": "error",
     "traceback": [
      "\u001b[0;31m---------------------------------------------------------------------------\u001b[0m",
      "\u001b[0;31mKeyboardInterrupt\u001b[0m                         Traceback (most recent call last)",
      "\u001b[0;32m/var/tmp/ipykernel_16353/337501311.py\u001b[0m in \u001b[0;36m<module>\u001b[0;34m\u001b[0m\n\u001b[1;32m     10\u001b[0m         \u001b[0mclip_uncompress_state_dict\u001b[0m \u001b[0;34m=\u001b[0m \u001b[0m_retrive_uncompress_matrix\u001b[0m\u001b[0;34m(\u001b[0m\u001b[0mclip_compress_state_dict\u001b[0m\u001b[0;34m)\u001b[0m\u001b[0;34m\u001b[0m\u001b[0;34m\u001b[0m\u001b[0m\n\u001b[1;32m     11\u001b[0m         \u001b[0mprint\u001b[0m\u001b[0;34m(\u001b[0m\u001b[0mcompression_tot\u001b[0m\u001b[0;34m(\u001b[0m\u001b[0mclip_compress_state_dict\u001b[0m\u001b[0;34m,\u001b[0m\u001b[0mstate_dict\u001b[0m\u001b[0;34m)\u001b[0m\u001b[0;34m)\u001b[0m\u001b[0;34m\u001b[0m\u001b[0;34m\u001b[0m\u001b[0m\n\u001b[0;32m---> 12\u001b[0;31m         \u001b[0mresult\u001b[0m\u001b[0;34m[\u001b[0m\u001b[0mratio\u001b[0m\u001b[0;34m]\u001b[0m\u001b[0;34m[\u001b[0m\u001b[0mlayer\u001b[0m\u001b[0;34m]\u001b[0m\u001b[0;34m[\u001b[0m\u001b[0;34m'perf'\u001b[0m\u001b[0;34m]\u001b[0m \u001b[0;34m=\u001b[0m \u001b[0mcompute_model_performance\u001b[0m\u001b[0;34m(\u001b[0m\u001b[0mclip_uncompress_state_dict\u001b[0m\u001b[0;34m)\u001b[0m\u001b[0;34m\u001b[0m\u001b[0;34m\u001b[0m\u001b[0m\n\u001b[0m\u001b[1;32m     13\u001b[0m         \u001b[0mresult\u001b[0m\u001b[0;34m[\u001b[0m\u001b[0mratio\u001b[0m\u001b[0;34m]\u001b[0m\u001b[0;34m[\u001b[0m\u001b[0mlayer\u001b[0m\u001b[0;34m]\u001b[0m\u001b[0;34m[\u001b[0m\u001b[0;34m'comp'\u001b[0m\u001b[0;34m]\u001b[0m \u001b[0;34m=\u001b[0m \u001b[0mcompression_tot\u001b[0m\u001b[0;34m(\u001b[0m\u001b[0mclip_compress_state_dict\u001b[0m\u001b[0;34m,\u001b[0m\u001b[0mstate_dict\u001b[0m\u001b[0;34m)\u001b[0m\u001b[0;34m\u001b[0m\u001b[0;34m\u001b[0m\u001b[0m\n\u001b[1;32m     14\u001b[0m         \u001b[0mprint\u001b[0m\u001b[0;34m(\u001b[0m\u001b[0mresult\u001b[0m\u001b[0;34m)\u001b[0m\u001b[0;34m\u001b[0m\u001b[0;34m\u001b[0m\u001b[0m\n",
      "\u001b[0;32m~/hpml_project/E6998/E6998-HPML-TermProject/utils/CLIP_ImageNet.py\u001b[0m in \u001b[0;36mcompute_model_performance\u001b[0;34m(model_dict)\u001b[0m\n\u001b[1;32m     66\u001b[0m \u001b[0;34m\u001b[0m\u001b[0m\n\u001b[1;32m     67\u001b[0m             \u001b[0;31m# measure accuracy\u001b[0m\u001b[0;34m\u001b[0m\u001b[0;34m\u001b[0m\u001b[0;34m\u001b[0m\u001b[0m\n\u001b[0;32m---> 68\u001b[0;31m             \u001b[0macc1\u001b[0m\u001b[0;34m,\u001b[0m \u001b[0macc5\u001b[0m \u001b[0;34m=\u001b[0m \u001b[0maccuracy\u001b[0m\u001b[0;34m(\u001b[0m\u001b[0mlogits\u001b[0m\u001b[0;34m,\u001b[0m \u001b[0mtarget\u001b[0m\u001b[0;34m,\u001b[0m \u001b[0mtopk\u001b[0m\u001b[0;34m=\u001b[0m\u001b[0;34m(\u001b[0m\u001b[0;36m1\u001b[0m\u001b[0;34m,\u001b[0m \u001b[0;36m5\u001b[0m\u001b[0;34m)\u001b[0m\u001b[0;34m)\u001b[0m\u001b[0;34m\u001b[0m\u001b[0;34m\u001b[0m\u001b[0m\n\u001b[0m\u001b[1;32m     69\u001b[0m             \u001b[0mtop1\u001b[0m \u001b[0;34m+=\u001b[0m \u001b[0macc1\u001b[0m\u001b[0;34m\u001b[0m\u001b[0;34m\u001b[0m\u001b[0m\n\u001b[1;32m     70\u001b[0m             \u001b[0mtop5\u001b[0m \u001b[0;34m+=\u001b[0m \u001b[0macc5\u001b[0m\u001b[0;34m\u001b[0m\u001b[0;34m\u001b[0m\u001b[0m\n",
      "\u001b[0;32m~/hpml_project/E6998/E6998-HPML-TermProject/utils/CLIP_ImageNet.py\u001b[0m in \u001b[0;36maccuracy\u001b[0;34m(output, target, topk)\u001b[0m\n\u001b[1;32m     43\u001b[0m     \u001b[0mpred\u001b[0m \u001b[0;34m=\u001b[0m \u001b[0moutput\u001b[0m\u001b[0;34m.\u001b[0m\u001b[0mtopk\u001b[0m\u001b[0;34m(\u001b[0m\u001b[0mmax\u001b[0m\u001b[0;34m(\u001b[0m\u001b[0mtopk\u001b[0m\u001b[0;34m)\u001b[0m\u001b[0;34m,\u001b[0m \u001b[0;36m1\u001b[0m\u001b[0;34m,\u001b[0m \u001b[0;32mTrue\u001b[0m\u001b[0;34m,\u001b[0m \u001b[0;32mTrue\u001b[0m\u001b[0;34m)\u001b[0m\u001b[0;34m[\u001b[0m\u001b[0;36m1\u001b[0m\u001b[0;34m]\u001b[0m\u001b[0;34m.\u001b[0m\u001b[0mt\u001b[0m\u001b[0;34m(\u001b[0m\u001b[0;34m)\u001b[0m\u001b[0;34m\u001b[0m\u001b[0;34m\u001b[0m\u001b[0m\n\u001b[1;32m     44\u001b[0m     \u001b[0mcorrect\u001b[0m \u001b[0;34m=\u001b[0m \u001b[0mpred\u001b[0m\u001b[0;34m.\u001b[0m\u001b[0meq\u001b[0m\u001b[0;34m(\u001b[0m\u001b[0mtarget\u001b[0m\u001b[0;34m.\u001b[0m\u001b[0mview\u001b[0m\u001b[0;34m(\u001b[0m\u001b[0;36m1\u001b[0m\u001b[0;34m,\u001b[0m \u001b[0;34m-\u001b[0m\u001b[0;36m1\u001b[0m\u001b[0;34m)\u001b[0m\u001b[0;34m.\u001b[0m\u001b[0mexpand_as\u001b[0m\u001b[0;34m(\u001b[0m\u001b[0mpred\u001b[0m\u001b[0;34m)\u001b[0m\u001b[0;34m)\u001b[0m\u001b[0;34m\u001b[0m\u001b[0;34m\u001b[0m\u001b[0m\n\u001b[0;32m---> 45\u001b[0;31m     \u001b[0;32mreturn\u001b[0m \u001b[0;34m[\u001b[0m\u001b[0mfloat\u001b[0m\u001b[0;34m(\u001b[0m\u001b[0mcorrect\u001b[0m\u001b[0;34m[\u001b[0m\u001b[0;34m:\u001b[0m\u001b[0mk\u001b[0m\u001b[0;34m]\u001b[0m\u001b[0;34m.\u001b[0m\u001b[0mreshape\u001b[0m\u001b[0;34m(\u001b[0m\u001b[0;34m-\u001b[0m\u001b[0;36m1\u001b[0m\u001b[0;34m)\u001b[0m\u001b[0;34m.\u001b[0m\u001b[0mfloat\u001b[0m\u001b[0;34m(\u001b[0m\u001b[0;34m)\u001b[0m\u001b[0;34m.\u001b[0m\u001b[0msum\u001b[0m\u001b[0;34m(\u001b[0m\u001b[0;36m0\u001b[0m\u001b[0;34m,\u001b[0m \u001b[0mkeepdim\u001b[0m\u001b[0;34m=\u001b[0m\u001b[0;32mTrue\u001b[0m\u001b[0;34m)\u001b[0m\u001b[0;34m.\u001b[0m\u001b[0mcpu\u001b[0m\u001b[0;34m(\u001b[0m\u001b[0;34m)\u001b[0m\u001b[0;34m.\u001b[0m\u001b[0mnumpy\u001b[0m\u001b[0;34m(\u001b[0m\u001b[0;34m)\u001b[0m\u001b[0;34m)\u001b[0m \u001b[0;32mfor\u001b[0m \u001b[0mk\u001b[0m \u001b[0;32min\u001b[0m \u001b[0mtopk\u001b[0m\u001b[0;34m]\u001b[0m\u001b[0;34m\u001b[0m\u001b[0;34m\u001b[0m\u001b[0m\n\u001b[0m\u001b[1;32m     46\u001b[0m \u001b[0;34m\u001b[0m\u001b[0m\n\u001b[1;32m     47\u001b[0m \u001b[0;34m\u001b[0m\u001b[0m\n",
      "\u001b[0;32m~/hpml_project/E6998/E6998-HPML-TermProject/utils/CLIP_ImageNet.py\u001b[0m in \u001b[0;36m<listcomp>\u001b[0;34m(.0)\u001b[0m\n\u001b[1;32m     43\u001b[0m     \u001b[0mpred\u001b[0m \u001b[0;34m=\u001b[0m \u001b[0moutput\u001b[0m\u001b[0;34m.\u001b[0m\u001b[0mtopk\u001b[0m\u001b[0;34m(\u001b[0m\u001b[0mmax\u001b[0m\u001b[0;34m(\u001b[0m\u001b[0mtopk\u001b[0m\u001b[0;34m)\u001b[0m\u001b[0;34m,\u001b[0m \u001b[0;36m1\u001b[0m\u001b[0;34m,\u001b[0m \u001b[0;32mTrue\u001b[0m\u001b[0;34m,\u001b[0m \u001b[0;32mTrue\u001b[0m\u001b[0;34m)\u001b[0m\u001b[0;34m[\u001b[0m\u001b[0;36m1\u001b[0m\u001b[0;34m]\u001b[0m\u001b[0;34m.\u001b[0m\u001b[0mt\u001b[0m\u001b[0;34m(\u001b[0m\u001b[0;34m)\u001b[0m\u001b[0;34m\u001b[0m\u001b[0;34m\u001b[0m\u001b[0m\n\u001b[1;32m     44\u001b[0m     \u001b[0mcorrect\u001b[0m \u001b[0;34m=\u001b[0m \u001b[0mpred\u001b[0m\u001b[0;34m.\u001b[0m\u001b[0meq\u001b[0m\u001b[0;34m(\u001b[0m\u001b[0mtarget\u001b[0m\u001b[0;34m.\u001b[0m\u001b[0mview\u001b[0m\u001b[0;34m(\u001b[0m\u001b[0;36m1\u001b[0m\u001b[0;34m,\u001b[0m \u001b[0;34m-\u001b[0m\u001b[0;36m1\u001b[0m\u001b[0;34m)\u001b[0m\u001b[0;34m.\u001b[0m\u001b[0mexpand_as\u001b[0m\u001b[0;34m(\u001b[0m\u001b[0mpred\u001b[0m\u001b[0;34m)\u001b[0m\u001b[0;34m)\u001b[0m\u001b[0;34m\u001b[0m\u001b[0;34m\u001b[0m\u001b[0m\n\u001b[0;32m---> 45\u001b[0;31m     \u001b[0;32mreturn\u001b[0m \u001b[0;34m[\u001b[0m\u001b[0mfloat\u001b[0m\u001b[0;34m(\u001b[0m\u001b[0mcorrect\u001b[0m\u001b[0;34m[\u001b[0m\u001b[0;34m:\u001b[0m\u001b[0mk\u001b[0m\u001b[0;34m]\u001b[0m\u001b[0;34m.\u001b[0m\u001b[0mreshape\u001b[0m\u001b[0;34m(\u001b[0m\u001b[0;34m-\u001b[0m\u001b[0;36m1\u001b[0m\u001b[0;34m)\u001b[0m\u001b[0;34m.\u001b[0m\u001b[0mfloat\u001b[0m\u001b[0;34m(\u001b[0m\u001b[0;34m)\u001b[0m\u001b[0;34m.\u001b[0m\u001b[0msum\u001b[0m\u001b[0;34m(\u001b[0m\u001b[0;36m0\u001b[0m\u001b[0;34m,\u001b[0m \u001b[0mkeepdim\u001b[0m\u001b[0;34m=\u001b[0m\u001b[0;32mTrue\u001b[0m\u001b[0;34m)\u001b[0m\u001b[0;34m.\u001b[0m\u001b[0mcpu\u001b[0m\u001b[0;34m(\u001b[0m\u001b[0;34m)\u001b[0m\u001b[0;34m.\u001b[0m\u001b[0mnumpy\u001b[0m\u001b[0;34m(\u001b[0m\u001b[0;34m)\u001b[0m\u001b[0;34m)\u001b[0m \u001b[0;32mfor\u001b[0m \u001b[0mk\u001b[0m \u001b[0;32min\u001b[0m \u001b[0mtopk\u001b[0m\u001b[0;34m]\u001b[0m\u001b[0;34m\u001b[0m\u001b[0;34m\u001b[0m\u001b[0m\n\u001b[0m\u001b[1;32m     46\u001b[0m \u001b[0;34m\u001b[0m\u001b[0m\n\u001b[1;32m     47\u001b[0m \u001b[0;34m\u001b[0m\u001b[0m\n",
      "\u001b[0;31mKeyboardInterrupt\u001b[0m: "
     ]
    }
   ],
   "source": [
    "# Attention with IMAGENET\n",
    "r_blocks = ['.resblocks.1.attn.']\n",
    "n_layers = [i+1 for i in range(9)]\n",
    "result = {}\n",
    "for ratio in compress_ratio:\n",
    "    result[ratio] = {}\n",
    "    for layer in n_layers:\n",
    "        result[ratio][layer] = {}\n",
    "        clip_compress_state_dict, layers_skipped = _compress_model(state_dict, ratio, layer, True, True, r_blocks,0)\n",
    "        clip_uncompress_state_dict = _retrive_uncompress_matrix(clip_compress_state_dict)\n",
    "        print(compression_tot(clip_compress_state_dict,state_dict))\n",
    "        result[ratio][layer]['perf'] = compute_model_performance(clip_uncompress_state_dict)\n",
    "        result[ratio][layer]['comp'] = compression_tot(clip_compress_state_dict,state_dict)\n",
    "        print(result)"
   ]
  },
  {
   "cell_type": "code",
   "execution_count": 8,
   "id": "5451d034",
   "metadata": {},
   "outputs": [
    {
     "data": {
      "text/plain": [
       "{0.05: {'top-1': 25.94, 'top-5': 49.39, 'comp': 0.04450202655304963},\n",
       " 0.1: {'top-1': 30.0, 'top-5': 54.85, 'comp': 0.042155607298498224},\n",
       " 0.15000000000000002: {'top-1': 35.18,\n",
       "  'top-5': 61.870000000000005,\n",
       "  'comp': 0.039809188043946814},\n",
       " 0.2: {'top-1': 40.89,\n",
       "  'top-5': 68.28999999999999,\n",
       "  'comp': 0.037462768789395404},\n",
       " 0.25: {'top-1': 43.54, 'top-5': 71.87, 'comp': 0.035177290596112055},\n",
       " 0.3: {'top-1': 47.31, 'top-5': 75.21, 'comp': 0.03280039089536182},\n",
       " 0.35000000000000003: {'top-1': 49.05,\n",
       "  'top-5': 77.41,\n",
       "  'comp': 0.03045397164081041},\n",
       " 0.4: {'top-1': 50.7, 'top-5': 78.8, 'comp': 0.028107552386259},\n",
       " 0.45: {'top-1': 52.1,\n",
       "  'top-5': 79.75999999999999,\n",
       "  'comp': 0.025761133131707595}}"
      ]
     },
     "execution_count": 8,
     "metadata": {},
     "output_type": "execute_result"
    }
   ],
   "source": [
    "result"
   ]
  },
  {
   "cell_type": "code",
   "execution_count": 22,
   "id": "4c968628",
   "metadata": {},
   "outputs": [
    {
     "data": {
      "text/plain": [
       "odict_keys(['positional_embedding', 'text_projection', 'logit_scale', 'visual.class_embedding', 'visual.positional_embedding', 'visual.proj', 'visual.conv1.weight', 'visual.ln_pre.weight', 'visual.ln_pre.bias', 'visual.transformer.resblocks.0.attn.in_proj_weight', 'visual.transformer.resblocks.0.attn.in_proj_bias', 'visual.transformer.resblocks.0.attn.out_proj.weight', 'visual.transformer.resblocks.0.attn.out_proj.bias', 'visual.transformer.resblocks.0.ln_1.weight', 'visual.transformer.resblocks.0.ln_1.bias', 'visual.transformer.resblocks.0.mlp.c_fc.weight', 'visual.transformer.resblocks.0.mlp.c_fc.bias', 'visual.transformer.resblocks.0.mlp.c_proj.weight', 'visual.transformer.resblocks.0.mlp.c_proj.bias', 'visual.transformer.resblocks.0.ln_2.weight', 'visual.transformer.resblocks.0.ln_2.bias', 'visual.transformer.resblocks.1.attn.in_proj_weight', 'visual.transformer.resblocks.1.attn.in_proj_bias', 'visual.transformer.resblocks.1.attn.out_proj.weight', 'visual.transformer.resblocks.1.attn.out_proj.bias', 'visual.transformer.resblocks.1.ln_1.weight', 'visual.transformer.resblocks.1.ln_1.bias', 'visual.transformer.resblocks.1.mlp.c_fc.weight', 'visual.transformer.resblocks.1.mlp.c_fc.bias', 'visual.transformer.resblocks.1.mlp.c_proj.weight', 'visual.transformer.resblocks.1.mlp.c_proj.bias', 'visual.transformer.resblocks.1.ln_2.weight', 'visual.transformer.resblocks.1.ln_2.bias', 'visual.transformer.resblocks.2.attn.in_proj_weight', 'visual.transformer.resblocks.2.attn.in_proj_bias', 'visual.transformer.resblocks.2.attn.out_proj.weight', 'visual.transformer.resblocks.2.attn.out_proj.bias', 'visual.transformer.resblocks.2.ln_1.weight', 'visual.transformer.resblocks.2.ln_1.bias', 'visual.transformer.resblocks.2.mlp.c_fc.weight', 'visual.transformer.resblocks.2.mlp.c_fc.bias', 'visual.transformer.resblocks.2.mlp.c_proj.weight', 'visual.transformer.resblocks.2.mlp.c_proj.bias', 'visual.transformer.resblocks.2.ln_2.weight', 'visual.transformer.resblocks.2.ln_2.bias', 'visual.transformer.resblocks.3.attn.in_proj_weight', 'visual.transformer.resblocks.3.attn.in_proj_bias', 'visual.transformer.resblocks.3.attn.out_proj.weight', 'visual.transformer.resblocks.3.attn.out_proj.bias', 'visual.transformer.resblocks.3.ln_1.weight', 'visual.transformer.resblocks.3.ln_1.bias', 'visual.transformer.resblocks.3.mlp.c_fc.weight', 'visual.transformer.resblocks.3.mlp.c_fc.bias', 'visual.transformer.resblocks.3.mlp.c_proj.weight', 'visual.transformer.resblocks.3.mlp.c_proj.bias', 'visual.transformer.resblocks.3.ln_2.weight', 'visual.transformer.resblocks.3.ln_2.bias', 'visual.transformer.resblocks.4.attn.in_proj_weight', 'visual.transformer.resblocks.4.attn.in_proj_bias', 'visual.transformer.resblocks.4.attn.out_proj.weight', 'visual.transformer.resblocks.4.attn.out_proj.bias', 'visual.transformer.resblocks.4.ln_1.weight', 'visual.transformer.resblocks.4.ln_1.bias', 'visual.transformer.resblocks.4.mlp.c_fc.weight', 'visual.transformer.resblocks.4.mlp.c_fc.bias', 'visual.transformer.resblocks.4.mlp.c_proj.weight', 'visual.transformer.resblocks.4.mlp.c_proj.bias', 'visual.transformer.resblocks.4.ln_2.weight', 'visual.transformer.resblocks.4.ln_2.bias', 'visual.transformer.resblocks.5.attn.in_proj_weight', 'visual.transformer.resblocks.5.attn.in_proj_bias', 'visual.transformer.resblocks.5.attn.out_proj.weight', 'visual.transformer.resblocks.5.attn.out_proj.bias', 'visual.transformer.resblocks.5.ln_1.weight', 'visual.transformer.resblocks.5.ln_1.bias', 'visual.transformer.resblocks.5.mlp.c_fc.weight', 'visual.transformer.resblocks.5.mlp.c_fc.bias', 'visual.transformer.resblocks.5.mlp.c_proj.weight', 'visual.transformer.resblocks.5.mlp.c_proj.bias', 'visual.transformer.resblocks.5.ln_2.weight', 'visual.transformer.resblocks.5.ln_2.bias', 'visual.transformer.resblocks.6.attn.in_proj_weight', 'visual.transformer.resblocks.6.attn.in_proj_bias', 'visual.transformer.resblocks.6.attn.out_proj.weight', 'visual.transformer.resblocks.6.attn.out_proj.bias', 'visual.transformer.resblocks.6.ln_1.weight', 'visual.transformer.resblocks.6.ln_1.bias', 'visual.transformer.resblocks.6.mlp.c_fc.weight', 'visual.transformer.resblocks.6.mlp.c_fc.bias', 'visual.transformer.resblocks.6.mlp.c_proj.weight', 'visual.transformer.resblocks.6.mlp.c_proj.bias', 'visual.transformer.resblocks.6.ln_2.weight', 'visual.transformer.resblocks.6.ln_2.bias', 'visual.transformer.resblocks.7.attn.in_proj_weight', 'visual.transformer.resblocks.7.attn.in_proj_bias', 'visual.transformer.resblocks.7.attn.out_proj.weight', 'visual.transformer.resblocks.7.attn.out_proj.bias', 'visual.transformer.resblocks.7.ln_1.weight', 'visual.transformer.resblocks.7.ln_1.bias', 'visual.transformer.resblocks.7.mlp.c_fc.weight', 'visual.transformer.resblocks.7.mlp.c_fc.bias', 'visual.transformer.resblocks.7.mlp.c_proj.weight', 'visual.transformer.resblocks.7.mlp.c_proj.bias', 'visual.transformer.resblocks.7.ln_2.weight', 'visual.transformer.resblocks.7.ln_2.bias', 'visual.transformer.resblocks.8.attn.in_proj_weight', 'visual.transformer.resblocks.8.attn.in_proj_bias', 'visual.transformer.resblocks.8.attn.out_proj.weight', 'visual.transformer.resblocks.8.attn.out_proj.bias', 'visual.transformer.resblocks.8.ln_1.weight', 'visual.transformer.resblocks.8.ln_1.bias', 'visual.transformer.resblocks.8.mlp.c_fc.weight', 'visual.transformer.resblocks.8.mlp.c_fc.bias', 'visual.transformer.resblocks.8.mlp.c_proj.weight', 'visual.transformer.resblocks.8.mlp.c_proj.bias', 'visual.transformer.resblocks.8.ln_2.weight', 'visual.transformer.resblocks.8.ln_2.bias', 'visual.transformer.resblocks.9.attn.in_proj_weight', 'visual.transformer.resblocks.9.attn.in_proj_bias', 'visual.transformer.resblocks.9.attn.out_proj.weight', 'visual.transformer.resblocks.9.attn.out_proj.bias', 'visual.transformer.resblocks.9.ln_1.weight', 'visual.transformer.resblocks.9.ln_1.bias', 'visual.transformer.resblocks.9.mlp.c_fc.weight', 'visual.transformer.resblocks.9.mlp.c_fc.bias', 'visual.transformer.resblocks.9.mlp.c_proj.weight', 'visual.transformer.resblocks.9.mlp.c_proj.bias', 'visual.transformer.resblocks.9.ln_2.weight', 'visual.transformer.resblocks.9.ln_2.bias', 'visual.transformer.resblocks.10.attn.in_proj_weight', 'visual.transformer.resblocks.10.attn.in_proj_bias', 'visual.transformer.resblocks.10.attn.out_proj.weight', 'visual.transformer.resblocks.10.attn.out_proj.bias', 'visual.transformer.resblocks.10.ln_1.weight', 'visual.transformer.resblocks.10.ln_1.bias', 'visual.transformer.resblocks.10.mlp.c_fc.weight', 'visual.transformer.resblocks.10.mlp.c_fc.bias', 'visual.transformer.resblocks.10.mlp.c_proj.weight', 'visual.transformer.resblocks.10.mlp.c_proj.bias', 'visual.transformer.resblocks.10.ln_2.weight', 'visual.transformer.resblocks.10.ln_2.bias', 'visual.transformer.resblocks.11.attn.in_proj_weight', 'visual.transformer.resblocks.11.attn.in_proj_bias', 'visual.transformer.resblocks.11.attn.out_proj.weight', 'visual.transformer.resblocks.11.attn.out_proj.bias', 'visual.transformer.resblocks.11.ln_1.weight', 'visual.transformer.resblocks.11.ln_1.bias', 'visual.transformer.resblocks.11.mlp.c_fc.weight', 'visual.transformer.resblocks.11.mlp.c_fc.bias', 'visual.transformer.resblocks.11.mlp.c_proj.weight', 'visual.transformer.resblocks.11.mlp.c_proj.bias', 'visual.transformer.resblocks.11.ln_2.weight', 'visual.transformer.resblocks.11.ln_2.bias', 'visual.ln_post.weight', 'visual.ln_post.bias', 'transformer.resblocks.0.attn.in_proj_weight', 'transformer.resblocks.0.attn.in_proj_bias', 'transformer.resblocks.0.attn.out_proj.weight', 'transformer.resblocks.0.attn.out_proj.bias', 'transformer.resblocks.0.ln_1.weight', 'transformer.resblocks.0.ln_1.bias', 'transformer.resblocks.0.mlp.c_fc.weight', 'transformer.resblocks.0.mlp.c_fc.bias', 'transformer.resblocks.0.mlp.c_proj.weight', 'transformer.resblocks.0.mlp.c_proj.bias', 'transformer.resblocks.0.ln_2.weight', 'transformer.resblocks.0.ln_2.bias', 'transformer.resblocks.1.attn.in_proj_weight', 'transformer.resblocks.1.attn.in_proj_bias', 'transformer.resblocks.1.attn.out_proj.weight', 'transformer.resblocks.1.attn.out_proj.bias', 'transformer.resblocks.1.ln_1.weight', 'transformer.resblocks.1.ln_1.bias', 'transformer.resblocks.1.mlp.c_fc.weight', 'transformer.resblocks.1.mlp.c_fc.bias', 'transformer.resblocks.1.mlp.c_proj.weight', 'transformer.resblocks.1.mlp.c_proj.bias', 'transformer.resblocks.1.ln_2.weight', 'transformer.resblocks.1.ln_2.bias', 'transformer.resblocks.2.attn.in_proj_weight', 'transformer.resblocks.2.attn.in_proj_bias', 'transformer.resblocks.2.attn.out_proj.weight', 'transformer.resblocks.2.attn.out_proj.bias', 'transformer.resblocks.2.ln_1.weight', 'transformer.resblocks.2.ln_1.bias', 'transformer.resblocks.2.mlp.c_fc.weight', 'transformer.resblocks.2.mlp.c_fc.bias', 'transformer.resblocks.2.mlp.c_proj.weight', 'transformer.resblocks.2.mlp.c_proj.bias', 'transformer.resblocks.2.ln_2.weight', 'transformer.resblocks.2.ln_2.bias', 'transformer.resblocks.3.attn.in_proj_weight', 'transformer.resblocks.3.attn.in_proj_bias', 'transformer.resblocks.3.attn.out_proj.weight', 'transformer.resblocks.3.attn.out_proj.bias', 'transformer.resblocks.3.ln_1.weight', 'transformer.resblocks.3.ln_1.bias', 'transformer.resblocks.3.mlp.c_fc.weight', 'transformer.resblocks.3.mlp.c_fc.bias', 'transformer.resblocks.3.mlp.c_proj.weight', 'transformer.resblocks.3.mlp.c_proj.bias', 'transformer.resblocks.3.ln_2.weight', 'transformer.resblocks.3.ln_2.bias', 'transformer.resblocks.4.attn.in_proj_weight', 'transformer.resblocks.4.attn.in_proj_bias', 'transformer.resblocks.4.attn.out_proj.weight', 'transformer.resblocks.4.attn.out_proj.bias', 'transformer.resblocks.4.ln_1.weight', 'transformer.resblocks.4.ln_1.bias', 'transformer.resblocks.4.mlp.c_fc.weight', 'transformer.resblocks.4.mlp.c_fc.bias', 'transformer.resblocks.4.mlp.c_proj.weight', 'transformer.resblocks.4.mlp.c_proj.bias', 'transformer.resblocks.4.ln_2.weight', 'transformer.resblocks.4.ln_2.bias', 'transformer.resblocks.5.attn.in_proj_weight', 'transformer.resblocks.5.attn.in_proj_bias', 'transformer.resblocks.5.attn.out_proj.weight', 'transformer.resblocks.5.attn.out_proj.bias', 'transformer.resblocks.5.ln_1.weight', 'transformer.resblocks.5.ln_1.bias', 'transformer.resblocks.5.mlp.c_fc.weight', 'transformer.resblocks.5.mlp.c_fc.bias', 'transformer.resblocks.5.mlp.c_proj.weight', 'transformer.resblocks.5.mlp.c_proj.bias', 'transformer.resblocks.5.ln_2.weight', 'transformer.resblocks.5.ln_2.bias', 'transformer.resblocks.6.attn.in_proj_weight', 'transformer.resblocks.6.attn.in_proj_bias', 'transformer.resblocks.6.attn.out_proj.weight', 'transformer.resblocks.6.attn.out_proj.bias', 'transformer.resblocks.6.ln_1.weight', 'transformer.resblocks.6.ln_1.bias', 'transformer.resblocks.6.mlp.c_fc.weight', 'transformer.resblocks.6.mlp.c_fc.bias', 'transformer.resblocks.6.mlp.c_proj.weight', 'transformer.resblocks.6.mlp.c_proj.bias', 'transformer.resblocks.6.ln_2.weight', 'transformer.resblocks.6.ln_2.bias', 'transformer.resblocks.7.attn.in_proj_weight', 'transformer.resblocks.7.attn.in_proj_bias', 'transformer.resblocks.7.attn.out_proj.weight', 'transformer.resblocks.7.attn.out_proj.bias', 'transformer.resblocks.7.ln_1.weight', 'transformer.resblocks.7.ln_1.bias', 'transformer.resblocks.7.mlp.c_fc.weight', 'transformer.resblocks.7.mlp.c_fc.bias', 'transformer.resblocks.7.mlp.c_proj.weight', 'transformer.resblocks.7.mlp.c_proj.bias', 'transformer.resblocks.7.ln_2.weight', 'transformer.resblocks.7.ln_2.bias', 'transformer.resblocks.8.attn.in_proj_weight', 'transformer.resblocks.8.attn.in_proj_bias', 'transformer.resblocks.8.attn.out_proj.weight', 'transformer.resblocks.8.attn.out_proj.bias', 'transformer.resblocks.8.ln_1.weight', 'transformer.resblocks.8.ln_1.bias', 'transformer.resblocks.8.mlp.c_fc.weight', 'transformer.resblocks.8.mlp.c_fc.bias', 'transformer.resblocks.8.mlp.c_proj.weight', 'transformer.resblocks.8.mlp.c_proj.bias', 'transformer.resblocks.8.ln_2.weight', 'transformer.resblocks.8.ln_2.bias', 'transformer.resblocks.9.attn.in_proj_weight', 'transformer.resblocks.9.attn.in_proj_bias', 'transformer.resblocks.9.attn.out_proj.weight', 'transformer.resblocks.9.attn.out_proj.bias', 'transformer.resblocks.9.ln_1.weight', 'transformer.resblocks.9.ln_1.bias', 'transformer.resblocks.9.mlp.c_fc.weight', 'transformer.resblocks.9.mlp.c_fc.bias', 'transformer.resblocks.9.mlp.c_proj.weight', 'transformer.resblocks.9.mlp.c_proj.bias', 'transformer.resblocks.9.ln_2.weight', 'transformer.resblocks.9.ln_2.bias', 'transformer.resblocks.10.attn.in_proj_weight', 'transformer.resblocks.10.attn.in_proj_bias', 'transformer.resblocks.10.attn.out_proj.weight', 'transformer.resblocks.10.attn.out_proj.bias', 'transformer.resblocks.10.ln_1.weight', 'transformer.resblocks.10.ln_1.bias', 'transformer.resblocks.10.mlp.c_fc.weight', 'transformer.resblocks.10.mlp.c_fc.bias', 'transformer.resblocks.10.mlp.c_proj.weight', 'transformer.resblocks.10.mlp.c_proj.bias', 'transformer.resblocks.10.ln_2.weight', 'transformer.resblocks.10.ln_2.bias', 'transformer.resblocks.11.attn.in_proj_weight', 'transformer.resblocks.11.attn.in_proj_bias', 'transformer.resblocks.11.attn.out_proj.weight', 'transformer.resblocks.11.attn.out_proj.bias', 'transformer.resblocks.11.ln_1.weight', 'transformer.resblocks.11.ln_1.bias', 'transformer.resblocks.11.mlp.c_fc.weight', 'transformer.resblocks.11.mlp.c_fc.bias', 'transformer.resblocks.11.mlp.c_proj.weight', 'transformer.resblocks.11.mlp.c_proj.bias', 'transformer.resblocks.11.ln_2.weight', 'transformer.resblocks.11.ln_2.bias', 'token_embedding.weight', 'ln_final.weight', 'ln_final.bias'])"
      ]
     },
     "execution_count": 22,
     "metadata": {},
     "output_type": "execute_result"
    }
   ],
   "source": []
  },
  {
   "cell_type": "code",
   "execution_count": 16,
   "id": "835061f1",
   "metadata": {},
   "outputs": [
    {
     "name": "stdout",
     "output_type": "stream",
     "text": [
      "Visual - 21\n",
      "key-visual.transformer.resblocks.1.attn.in_proj_weight gonna be compressed\n",
      "Visual - 42\n",
      "Visual - 63\n",
      "key-visual.transformer.resblocks.4.mlp.c_fc.weight gonna be compressed\n",
      "Visual - 84\n",
      "Visual - 105\n",
      "key-visual.transformer.resblocks.8.attn.in_proj_weight gonna be compressed\n",
      "Visual - 126\n",
      "Visual - 147\n",
      "key-visual.transformer.resblocks.11.mlp.c_fc.weight gonna be compressed\n",
      "Transformer - 155\n",
      "key-transformer.resblocks.0.attn.in_proj_weight gonna be compressed\n",
      "Transformer - 170\n",
      "Transformer - 185\n",
      "key-transformer.resblocks.2.mlp.c_fc.weight gonna be compressed\n",
      "Transformer - 200\n",
      "Transformer - 215\n",
      "key-transformer.resblocks.5.attn.in_proj_weight gonna be compressed\n",
      "Transformer - 230\n",
      "Transformer - 245\n",
      "key-transformer.resblocks.7.mlp.c_fc.weight gonna be compressed\n",
      "Transformer - 260\n",
      "Transformer - 275\n",
      "key-transformer.resblocks.10.attn.in_proj_weight gonna be compressed\n",
      "Transformer - 290\n",
      "layers_skipped9\n"
     ]
    }
   ],
   "source": [
    "state_dict = model.state_dict()\n",
    "compress_ratio = 0.75\n",
    "clip_compress_state_dict, layers_skipped = _compress_model(state_dict, 0.01, 200, True, True)\n",
    "from utils.CLIP_ImageNet import compute_model_performance\n",
    "print(f\"layers_skipped{layers_skipped}\")"
   ]
  },
  {
   "cell_type": "code",
   "execution_count": 17,
   "id": "5eb98f26",
   "metadata": {},
   "outputs": [],
   "source": [
    "clip_uncompress_state_dict = _retrive_uncompress_matrix(clip_compress_state_dict)"
   ]
  },
  {
   "cell_type": "code",
   "execution_count": 18,
   "id": "6d342961",
   "metadata": {},
   "outputs": [
    {
     "name": "stdout",
     "output_type": "stream",
     "text": [
      "Total number of parameters: 151277313\n"
     ]
    }
   ],
   "source": [
    "total_params = 0\n",
    "for param_tensor in state_dict.values():\n",
    "    total_params += param_tensor.numel()\n",
    "#     print(param_tensor.numel())\n",
    "\n",
    "print(\"Total number of parameters:\", total_params)"
   ]
  },
  {
   "cell_type": "code",
   "execution_count": 19,
   "id": "e0b942ab",
   "metadata": {},
   "outputs": [
    {
     "name": "stdout",
     "output_type": "stream",
     "text": [
      "Total number of parameters: 138679080\n"
     ]
    }
   ],
   "source": [
    "total_params_comp = 0\n",
    "for param_tensor in clip_compress_state_dict.values():\n",
    "    if isinstance(param_tensor,dict)==True:\n",
    "        for key,value in param_tensor.items():\n",
    "            total_params_comp += value.numel()\n",
    "    else:\n",
    "        total_params_comp += param_tensor.numel()\n",
    "print(\"Total number of parameters:\", total_params_comp)"
   ]
  },
  {
   "cell_type": "code",
   "execution_count": 20,
   "id": "c24c08e6",
   "metadata": {},
   "outputs": [
    {
     "data": {
      "text/plain": [
       "0.08327906379458233"
      ]
     },
     "execution_count": 20,
     "metadata": {},
     "output_type": "execute_result"
    }
   ],
   "source": [
    "(total_params - total_params_comp)/total_params"
   ]
  },
  {
   "cell_type": "code",
   "execution_count": 10,
   "id": "051a0f0e",
   "metadata": {},
   "outputs": [
    {
     "data": {
      "application/json": {
       "ascii": false,
       "bar_format": null,
       "colour": null,
       "elapsed": 0.010390758514404297,
       "initial": 0,
       "n": 0,
       "ncols": null,
       "nrows": 16,
       "postfix": null,
       "prefix": "",
       "rate": null,
       "total": 1000,
       "unit": "it",
       "unit_divisor": 1000,
       "unit_scale": false
      },
      "application/vnd.jupyter.widget-view+json": {
       "model_id": "6071c54b7e3d4abfb311b43a6168f9fd",
       "version_major": 2,
       "version_minor": 0
      },
      "text/plain": [
       "  0%|          | 0/1000 [00:00<?, ?it/s]"
      ]
     },
     "metadata": {},
     "output_type": "display_data"
    },
    {
     "data": {
      "application/json": {
       "ascii": false,
       "bar_format": null,
       "colour": null,
       "elapsed": 0.0089263916015625,
       "initial": 0,
       "n": 0,
       "ncols": null,
       "nrows": 16,
       "postfix": null,
       "prefix": "",
       "rate": null,
       "total": 313,
       "unit": "it",
       "unit_divisor": 1000,
       "unit_scale": false
      },
      "application/vnd.jupyter.widget-view+json": {
       "model_id": "acda3b2f752b48e1a4ee01fa3aef3eb1",
       "version_major": 2,
       "version_minor": 0
      },
      "text/plain": [
       "  0%|          | 0/313 [00:00<?, ?it/s]"
      ]
     },
     "metadata": {},
     "output_type": "display_data"
    },
    {
     "data": {
      "text/plain": [
       "{'top-1': 0.13, 'top-5': 0.79}"
      ]
     },
     "execution_count": 10,
     "metadata": {},
     "output_type": "execute_result"
    }
   ],
   "source": [
    "\"Random Compression for all\" \"10.3% compression\"\n",
    "compute_model_performance(clip_uncompress_state_dict)"
   ]
  },
  {
   "cell_type": "code",
   "execution_count": 15,
   "id": "8d6d450a",
   "metadata": {},
   "outputs": [
    {
     "data": {
      "application/json": {
       "ascii": false,
       "bar_format": null,
       "colour": null,
       "elapsed": 0.009630918502807617,
       "initial": 0,
       "n": 0,
       "ncols": null,
       "nrows": 16,
       "postfix": null,
       "prefix": "",
       "rate": null,
       "total": 1000,
       "unit": "it",
       "unit_divisor": 1000,
       "unit_scale": false
      },
      "application/vnd.jupyter.widget-view+json": {
       "model_id": "a951df209c504370ab8dcf4d48f0c9c9",
       "version_major": 2,
       "version_minor": 0
      },
      "text/plain": [
       "  0%|          | 0/1000 [00:00<?, ?it/s]"
      ]
     },
     "metadata": {},
     "output_type": "display_data"
    },
    {
     "data": {
      "application/json": {
       "ascii": false,
       "bar_format": null,
       "colour": null,
       "elapsed": 0.009263992309570312,
       "initial": 0,
       "n": 0,
       "ncols": null,
       "nrows": 16,
       "postfix": null,
       "prefix": "",
       "rate": null,
       "total": 313,
       "unit": "it",
       "unit_divisor": 1000,
       "unit_scale": false
      },
      "application/vnd.jupyter.widget-view+json": {
       "model_id": "e8cb80afcb324e54846a56a86ca6ca1f",
       "version_major": 2,
       "version_minor": 0
      },
      "text/plain": [
       "  0%|          | 0/313 [00:00<?, ?it/s]"
      ]
     },
     "metadata": {},
     "output_type": "display_data"
    },
    {
     "data": {
      "text/plain": [
       "{'top-1': 2.31, 'top-5': 7.380000000000001}"
      ]
     },
     "execution_count": 15,
     "metadata": {},
     "output_type": "execute_result"
    }
   ],
   "source": [
    "\"Random Compression for all\" \"10.3% compression\"\n",
    "compute_model_performance(clip_uncompress_state_dict)"
   ]
  },
  {
   "cell_type": "code",
   "execution_count": 9,
   "id": "e651ec92",
   "metadata": {},
   "outputs": [
    {
     "data": {
      "application/json": {
       "ascii": false,
       "bar_format": null,
       "colour": null,
       "elapsed": 0.009270668029785156,
       "initial": 0,
       "n": 0,
       "ncols": null,
       "nrows": 16,
       "postfix": null,
       "prefix": "",
       "rate": null,
       "total": 1000,
       "unit": "it",
       "unit_divisor": 1000,
       "unit_scale": false
      },
      "application/vnd.jupyter.widget-view+json": {
       "model_id": "90ca1a887d0b45c3a1b1258a5a3196b2",
       "version_major": 2,
       "version_minor": 0
      },
      "text/plain": [
       "  0%|          | 0/1000 [00:00<?, ?it/s]"
      ]
     },
     "metadata": {},
     "output_type": "display_data"
    },
    {
     "data": {
      "application/json": {
       "ascii": false,
       "bar_format": null,
       "colour": null,
       "elapsed": 0.00934600830078125,
       "initial": 0,
       "n": 0,
       "ncols": null,
       "nrows": 16,
       "postfix": null,
       "prefix": "",
       "rate": null,
       "total": 313,
       "unit": "it",
       "unit_divisor": 1000,
       "unit_scale": false
      },
      "application/vnd.jupyter.widget-view+json": {
       "model_id": "142b59cd75624e679b6e499db39f30dd",
       "version_major": 2,
       "version_minor": 0
      },
      "text/plain": [
       "  0%|          | 0/313 [00:00<?, ?it/s]"
      ]
     },
     "metadata": {},
     "output_type": "display_data"
    },
    {
     "data": {
      "text/plain": [
       "{'top-1': 16.400000000000002, 'top-5': 36.559999999999995}"
      ]
     },
     "execution_count": 9,
     "metadata": {},
     "output_type": "execute_result"
    }
   ],
   "source": [
    "\"Random Compression for VISION\" \"8.3% compression\"\n",
    "compute_model_performance(clip_uncompress_state_dict)"
   ]
  },
  {
   "cell_type": "code",
   "execution_count": 9,
   "id": "4c037795",
   "metadata": {},
   "outputs": [
    {
     "data": {
      "application/json": {
       "ascii": false,
       "bar_format": null,
       "colour": null,
       "elapsed": 0.009584903717041016,
       "initial": 0,
       "n": 0,
       "ncols": null,
       "nrows": 16,
       "postfix": null,
       "prefix": "",
       "rate": null,
       "total": 1000,
       "unit": "it",
       "unit_divisor": 1000,
       "unit_scale": false
      },
      "application/vnd.jupyter.widget-view+json": {
       "model_id": "20744fb1e3ac4c84b3359f65db46bd4c",
       "version_major": 2,
       "version_minor": 0
      },
      "text/plain": [
       "  0%|          | 0/1000 [00:00<?, ?it/s]"
      ]
     },
     "metadata": {},
     "output_type": "display_data"
    },
    {
     "data": {
      "application/json": {
       "ascii": false,
       "bar_format": null,
       "colour": null,
       "elapsed": 0.008849859237670898,
       "initial": 0,
       "n": 0,
       "ncols": null,
       "nrows": 16,
       "postfix": null,
       "prefix": "",
       "rate": null,
       "total": 313,
       "unit": "it",
       "unit_divisor": 1000,
       "unit_scale": false
      },
      "application/vnd.jupyter.widget-view+json": {
       "model_id": "57769f02b1b246dbac8e638f100a6534",
       "version_major": 2,
       "version_minor": 0
      },
      "text/plain": [
       "  0%|          | 0/313 [00:00<?, ?it/s]"
      ]
     },
     "metadata": {},
     "output_type": "display_data"
    },
    {
     "data": {
      "text/plain": [
       "{'top-1': 0.21, 'top-5': 1.4500000000000002}"
      ]
     },
     "execution_count": 9,
     "metadata": {},
     "output_type": "execute_result"
    }
   ],
   "source": [
    "\"Random Compression for VISION\" \"15.4% compression\"\n",
    "compute_model_performance(clip_uncompress_state_dict)"
   ]
  },
  {
   "cell_type": "code",
   "execution_count": 9,
   "id": "c0380229",
   "metadata": {},
   "outputs": [
    {
     "data": {
      "application/json": {
       "ascii": false,
       "bar_format": null,
       "colour": null,
       "elapsed": 0.009831428527832031,
       "initial": 0,
       "n": 0,
       "ncols": null,
       "nrows": 16,
       "postfix": null,
       "prefix": "",
       "rate": null,
       "total": 1000,
       "unit": "it",
       "unit_divisor": 1000,
       "unit_scale": false
      },
      "application/vnd.jupyter.widget-view+json": {
       "model_id": "03afd2a8a6b54a05b7e0faf01cb73db4",
       "version_major": 2,
       "version_minor": 0
      },
      "text/plain": [
       "  0%|          | 0/1000 [00:00<?, ?it/s]"
      ]
     },
     "metadata": {},
     "output_type": "display_data"
    },
    {
     "data": {
      "application/json": {
       "ascii": false,
       "bar_format": null,
       "colour": null,
       "elapsed": 0.009112834930419922,
       "initial": 0,
       "n": 0,
       "ncols": null,
       "nrows": 16,
       "postfix": null,
       "prefix": "",
       "rate": null,
       "total": 313,
       "unit": "it",
       "unit_divisor": 1000,
       "unit_scale": false
      },
      "application/vnd.jupyter.widget-view+json": {
       "model_id": "ec19975eb8c84a7b8b78f262e8f68ad6",
       "version_major": 2,
       "version_minor": 0
      },
      "text/plain": [
       "  0%|          | 0/313 [00:00<?, ?it/s]"
      ]
     },
     "metadata": {},
     "output_type": "display_data"
    },
    {
     "data": {
      "text/plain": [
       "{'top-1': 22.7, 'top-5': 47.410000000000004}"
      ]
     },
     "execution_count": 9,
     "metadata": {},
     "output_type": "execute_result"
    }
   ],
   "source": [
    "\"Random Compression for VISION\" \"5.4% compression\"\n",
    "compute_model_performance(clip_uncompress_state_dict)"
   ]
  },
  {
   "cell_type": "code",
   "execution_count": 14,
   "id": "9c3705fb",
   "metadata": {},
   "outputs": [
    {
     "data": {
      "application/json": {
       "ascii": false,
       "bar_format": null,
       "colour": null,
       "elapsed": 0.010630607604980469,
       "initial": 0,
       "n": 0,
       "ncols": null,
       "nrows": 16,
       "postfix": null,
       "prefix": "",
       "rate": null,
       "total": 1000,
       "unit": "it",
       "unit_divisor": 1000,
       "unit_scale": false
      },
      "application/vnd.jupyter.widget-view+json": {
       "model_id": "dd0a6d5f298846268c7fdbb53bc83271",
       "version_major": 2,
       "version_minor": 0
      },
      "text/plain": [
       "  0%|          | 0/1000 [00:00<?, ?it/s]"
      ]
     },
     "metadata": {},
     "output_type": "display_data"
    },
    {
     "data": {
      "application/json": {
       "ascii": false,
       "bar_format": null,
       "colour": null,
       "elapsed": 0.008761167526245117,
       "initial": 0,
       "n": 0,
       "ncols": null,
       "nrows": 16,
       "postfix": null,
       "prefix": "",
       "rate": null,
       "total": 313,
       "unit": "it",
       "unit_divisor": 1000,
       "unit_scale": false
      },
      "application/vnd.jupyter.widget-view+json": {
       "model_id": "4c1ef1b9434048dbab8b620b6d7e7acc",
       "version_major": 2,
       "version_minor": 0
      },
      "text/plain": [
       "  0%|          | 0/313 [00:00<?, ?it/s]"
      ]
     },
     "metadata": {},
     "output_type": "display_data"
    },
    {
     "data": {
      "text/plain": [
       "{'top-1': 8.95, 'top-5': 23.78}"
      ]
     },
     "execution_count": 14,
     "metadata": {},
     "output_type": "execute_result"
    }
   ],
   "source": [
    "\"from the end for VISION\" \"6.3% compression\"\n",
    "compute_model_performance(clip_uncompress_state_dict)"
   ]
  },
  {
   "cell_type": "code",
   "execution_count": 36,
   "id": "3bbdfc70",
   "metadata": {},
   "outputs": [
    {
     "data": {
      "application/json": {
       "ascii": false,
       "bar_format": null,
       "colour": null,
       "elapsed": 0.009120464324951172,
       "initial": 0,
       "n": 0,
       "ncols": null,
       "nrows": 16,
       "postfix": null,
       "prefix": "",
       "rate": null,
       "total": 1000,
       "unit": "it",
       "unit_divisor": 1000,
       "unit_scale": false
      },
      "application/vnd.jupyter.widget-view+json": {
       "model_id": "7bdd378003eb403ab9b344f3891fcf76",
       "version_major": 2,
       "version_minor": 0
      },
      "text/plain": [
       "  0%|          | 0/1000 [00:00<?, ?it/s]"
      ]
     },
     "metadata": {},
     "output_type": "display_data"
    },
    {
     "data": {
      "application/json": {
       "ascii": false,
       "bar_format": null,
       "colour": null,
       "elapsed": 0.009588956832885742,
       "initial": 0,
       "n": 0,
       "ncols": null,
       "nrows": 16,
       "postfix": null,
       "prefix": "",
       "rate": null,
       "total": 313,
       "unit": "it",
       "unit_divisor": 1000,
       "unit_scale": false
      },
      "application/vnd.jupyter.widget-view+json": {
       "model_id": "ced8bcf633184109a8f43438746a1ff8",
       "version_major": 2,
       "version_minor": 0
      },
      "text/plain": [
       "  0%|          | 0/313 [00:00<?, ?it/s]"
      ]
     },
     "metadata": {},
     "output_type": "display_data"
    },
    {
     "data": {
      "text/plain": [
       "{'top-1': 0.13, 'top-5': 0.65}"
      ]
     },
     "execution_count": 36,
     "metadata": {},
     "output_type": "execute_result"
    }
   ],
   "source": [
    "\"from the start for VISION\" \"1.3% compression\"\n",
    "compute_model_performance(clip_uncompress_state_dict)"
   ]
  },
  {
   "cell_type": "code",
   "execution_count": 29,
   "id": "31ab375a",
   "metadata": {},
   "outputs": [],
   "source": [
    "from utils.CLIP_ImageNet import compute_model_performance"
   ]
  },
  {
   "cell_type": "code",
   "execution_count": 30,
   "id": "51eda616",
   "metadata": {},
   "outputs": [
    {
     "data": {
      "application/json": {
       "ascii": false,
       "bar_format": null,
       "colour": null,
       "elapsed": 0.009899616241455078,
       "initial": 0,
       "n": 0,
       "ncols": null,
       "nrows": 16,
       "postfix": null,
       "prefix": "",
       "rate": null,
       "total": 1000,
       "unit": "it",
       "unit_divisor": 1000,
       "unit_scale": false
      },
      "application/vnd.jupyter.widget-view+json": {
       "model_id": "06c4333e638e468286240595db4470d0",
       "version_major": 2,
       "version_minor": 0
      },
      "text/plain": [
       "  0%|          | 0/1000 [00:00<?, ?it/s]"
      ]
     },
     "metadata": {},
     "output_type": "display_data"
    },
    {
     "data": {
      "application/json": {
       "ascii": false,
       "bar_format": null,
       "colour": null,
       "elapsed": 0.009154558181762695,
       "initial": 0,
       "n": 0,
       "ncols": null,
       "nrows": 16,
       "postfix": null,
       "prefix": "",
       "rate": null,
       "total": 313,
       "unit": "it",
       "unit_divisor": 1000,
       "unit_scale": false
      },
      "application/vnd.jupyter.widget-view+json": {
       "model_id": "ee444208e7fb46cea546655bb56a8c43",
       "version_major": 2,
       "version_minor": 0
      },
      "text/plain": [
       "  0%|          | 0/313 [00:00<?, ?it/s]"
      ]
     },
     "metadata": {},
     "output_type": "display_data"
    },
    {
     "data": {
      "text/plain": [
       "{'top-1': 20.03, 'top-5': 41.120000000000005}"
      ]
     },
     "execution_count": 30,
     "metadata": {},
     "output_type": "execute_result"
    }
   ],
   "source": [
    "compute_model_performance(clip_uncompress_state_dict)"
   ]
  },
  {
   "cell_type": "code",
   "execution_count": 23,
   "id": "ee06361c",
   "metadata": {},
   "outputs": [
    {
     "data": {
      "application/json": {
       "ascii": false,
       "bar_format": null,
       "colour": null,
       "elapsed": 0.009279966354370117,
       "initial": 0,
       "n": 0,
       "ncols": null,
       "nrows": 16,
       "postfix": null,
       "prefix": "",
       "rate": null,
       "total": 1000,
       "unit": "it",
       "unit_divisor": 1000,
       "unit_scale": false
      },
      "application/vnd.jupyter.widget-view+json": {
       "model_id": "b971e69f012347c1b8bf195912ce1340",
       "version_major": 2,
       "version_minor": 0
      },
      "text/plain": [
       "  0%|          | 0/1000 [00:00<?, ?it/s]"
      ]
     },
     "metadata": {},
     "output_type": "display_data"
    },
    {
     "data": {
      "application/json": {
       "ascii": false,
       "bar_format": null,
       "colour": null,
       "elapsed": 0.00944066047668457,
       "initial": 0,
       "n": 0,
       "ncols": null,
       "nrows": 16,
       "postfix": null,
       "prefix": "",
       "rate": null,
       "total": 313,
       "unit": "it",
       "unit_divisor": 1000,
       "unit_scale": false
      },
      "application/vnd.jupyter.widget-view+json": {
       "model_id": "958a4927dcbc4a0b8c13b2ad10b06a57",
       "version_major": 2,
       "version_minor": 0
      },
      "text/plain": [
       "  0%|          | 0/313 [00:00<?, ?it/s]"
      ]
     },
     "metadata": {},
     "output_type": "display_data"
    },
    {
     "data": {
      "text/plain": [
       "{'top-1': 42.19, 'top-5': 71.0}"
      ]
     },
     "execution_count": 23,
     "metadata": {},
     "output_type": "execute_result"
    }
   ],
   "source": [
    "compute_model_performance(clip_uncompress_state_dict)"
   ]
  },
  {
   "cell_type": "code",
   "execution_count": 29,
   "id": "6b1e1a6a",
   "metadata": {},
   "outputs": [
    {
     "data": {
      "application/json": {
       "ascii": false,
       "bar_format": null,
       "colour": null,
       "elapsed": 0.009824037551879883,
       "initial": 0,
       "n": 0,
       "ncols": null,
       "nrows": 16,
       "postfix": null,
       "prefix": "",
       "rate": null,
       "total": 1000,
       "unit": "it",
       "unit_divisor": 1000,
       "unit_scale": false
      },
      "application/vnd.jupyter.widget-view+json": {
       "model_id": "4939598523cd4960aaea8fd3197a07fa",
       "version_major": 2,
       "version_minor": 0
      },
      "text/plain": [
       "  0%|          | 0/1000 [00:00<?, ?it/s]"
      ]
     },
     "metadata": {},
     "output_type": "display_data"
    },
    {
     "data": {
      "application/json": {
       "ascii": false,
       "bar_format": null,
       "colour": null,
       "elapsed": 0.009067058563232422,
       "initial": 0,
       "n": 0,
       "ncols": null,
       "nrows": 16,
       "postfix": null,
       "prefix": "",
       "rate": null,
       "total": 313,
       "unit": "it",
       "unit_divisor": 1000,
       "unit_scale": false
      },
      "application/vnd.jupyter.widget-view+json": {
       "model_id": "595b4d99eb374a7fae8aecf7df09d61f",
       "version_major": 2,
       "version_minor": 0
      },
      "text/plain": [
       "  0%|          | 0/313 [00:00<?, ?it/s]"
      ]
     },
     "metadata": {},
     "output_type": "display_data"
    },
    {
     "data": {
      "text/plain": [
       "{'top-1': 10.209999999999999, 'top-5': 26.08}"
      ]
     },
     "execution_count": 29,
     "metadata": {},
     "output_type": "execute_result"
    }
   ],
   "source": [
    "compute_model_performance(clip_uncompress_state_dict)"
   ]
  },
  {
   "cell_type": "code",
   "execution_count": 22,
   "id": "3625353b",
   "metadata": {},
   "outputs": [
    {
     "data": {
      "application/json": {
       "ascii": false,
       "bar_format": null,
       "colour": null,
       "elapsed": 0.012492895126342773,
       "initial": 0,
       "n": 0,
       "ncols": null,
       "nrows": 16,
       "postfix": null,
       "prefix": "",
       "rate": null,
       "total": 1000,
       "unit": "it",
       "unit_divisor": 1000,
       "unit_scale": false
      },
      "application/vnd.jupyter.widget-view+json": {
       "model_id": "d1d5bf221a3e410fb61dbee24d20e2c7",
       "version_major": 2,
       "version_minor": 0
      },
      "text/plain": [
       "  0%|          | 0/1000 [00:00<?, ?it/s]"
      ]
     },
     "metadata": {},
     "output_type": "display_data"
    },
    {
     "data": {
      "application/json": {
       "ascii": false,
       "bar_format": null,
       "colour": null,
       "elapsed": 0.008829593658447266,
       "initial": 0,
       "n": 0,
       "ncols": null,
       "nrows": 16,
       "postfix": null,
       "prefix": "",
       "rate": null,
       "total": 313,
       "unit": "it",
       "unit_divisor": 1000,
       "unit_scale": false
      },
      "application/vnd.jupyter.widget-view+json": {
       "model_id": "f90f35a78c3c40daa5511816c680da39",
       "version_major": 2,
       "version_minor": 0
      },
      "text/plain": [
       "  0%|          | 0/313 [00:00<?, ?it/s]"
      ]
     },
     "metadata": {},
     "output_type": "display_data"
    },
    {
     "data": {
      "text/plain": [
       "{'top-1': 3.66, 'top-5': 11.88}"
      ]
     },
     "execution_count": 22,
     "metadata": {},
     "output_type": "execute_result"
    }
   ],
   "source": [
    "compute_model_performance(clip_uncompress_state_dict)"
   ]
  },
  {
   "cell_type": "code",
   "execution_count": 11,
   "id": "70c5c7b3",
   "metadata": {},
   "outputs": [
    {
     "data": {
      "application/json": {
       "ascii": false,
       "bar_format": null,
       "colour": null,
       "elapsed": 0.009625911712646484,
       "initial": 0,
       "n": 0,
       "ncols": null,
       "nrows": 16,
       "postfix": null,
       "prefix": "",
       "rate": null,
       "total": 1000,
       "unit": "it",
       "unit_divisor": 1000,
       "unit_scale": false
      },
      "application/vnd.jupyter.widget-view+json": {
       "model_id": "37a658e615614553afeee5e1bfb7c07d",
       "version_major": 2,
       "version_minor": 0
      },
      "text/plain": [
       "  0%|          | 0/1000 [00:00<?, ?it/s]"
      ]
     },
     "metadata": {},
     "output_type": "display_data"
    },
    {
     "data": {
      "application/json": {
       "ascii": false,
       "bar_format": null,
       "colour": null,
       "elapsed": 0.008727073669433594,
       "initial": 0,
       "n": 0,
       "ncols": null,
       "nrows": 16,
       "postfix": null,
       "prefix": "",
       "rate": null,
       "total": 313,
       "unit": "it",
       "unit_divisor": 1000,
       "unit_scale": false
      },
      "application/vnd.jupyter.widget-view+json": {
       "model_id": "ac0f41404a4c44ac813f83544af650f6",
       "version_major": 2,
       "version_minor": 0
      },
      "text/plain": [
       "  0%|          | 0/313 [00:00<?, ?it/s]"
      ]
     },
     "metadata": {},
     "output_type": "display_data"
    },
    {
     "data": {
      "text/plain": [
       "{'top-1': 35.64, 'top-5': 63.739999999999995}"
      ]
     },
     "execution_count": 11,
     "metadata": {},
     "output_type": "execute_result"
    }
   ],
   "source": [
    "compute_model_performance(clip_uncompress_state_dict)"
   ]
  },
  {
   "cell_type": "code",
   "execution_count": 7,
   "id": "e5972a01",
   "metadata": {},
   "outputs": [
    {
     "data": {
      "application/json": {
       "ascii": false,
       "bar_format": null,
       "colour": null,
       "elapsed": 0.012647390365600586,
       "initial": 0,
       "n": 0,
       "ncols": null,
       "nrows": 16,
       "postfix": null,
       "prefix": "",
       "rate": null,
       "total": 1000,
       "unit": "it",
       "unit_divisor": 1000,
       "unit_scale": false
      },
      "application/vnd.jupyter.widget-view+json": {
       "model_id": "ceaaa9d487f04bd3af1223173c06536a",
       "version_major": 2,
       "version_minor": 0
      },
      "text/plain": [
       "  0%|          | 0/1000 [00:00<?, ?it/s]"
      ]
     },
     "metadata": {},
     "output_type": "display_data"
    },
    {
     "data": {
      "application/json": {
       "ascii": false,
       "bar_format": null,
       "colour": null,
       "elapsed": 0.009039163589477539,
       "initial": 0,
       "n": 0,
       "ncols": null,
       "nrows": 16,
       "postfix": null,
       "prefix": "",
       "rate": null,
       "total": 313,
       "unit": "it",
       "unit_divisor": 1000,
       "unit_scale": false
      },
      "application/vnd.jupyter.widget-view+json": {
       "model_id": "4cdb2db43b5f414da34405f4ccab8758",
       "version_major": 2,
       "version_minor": 0
      },
      "text/plain": [
       "  0%|          | 0/313 [00:00<?, ?it/s]"
      ]
     },
     "metadata": {},
     "output_type": "display_data"
    },
    {
     "data": {
      "text/plain": [
       "{'top-1': 52.75, 'top-5': 81.72}"
      ]
     },
     "execution_count": 7,
     "metadata": {},
     "output_type": "execute_result"
    }
   ],
   "source": [
    "compute_model_performance(clip_uncompress_state_dict)"
   ]
  },
  {
   "cell_type": "code",
   "execution_count": 8,
   "id": "e3f6d918",
   "metadata": {},
   "outputs": [
    {
     "data": {
      "application/json": {
       "ascii": false,
       "bar_format": null,
       "colour": null,
       "elapsed": 0.009464025497436523,
       "initial": 0,
       "n": 0,
       "ncols": null,
       "nrows": 16,
       "postfix": null,
       "prefix": "",
       "rate": null,
       "total": 1000,
       "unit": "it",
       "unit_divisor": 1000,
       "unit_scale": false
      },
      "application/vnd.jupyter.widget-view+json": {
       "model_id": "d839dd84f0ef49868a3c5d5bc2ff627a",
       "version_major": 2,
       "version_minor": 0
      },
      "text/plain": [
       "  0%|          | 0/1000 [00:00<?, ?it/s]"
      ]
     },
     "metadata": {},
     "output_type": "display_data"
    },
    {
     "data": {
      "application/json": {
       "ascii": false,
       "bar_format": null,
       "colour": null,
       "elapsed": 0.008602619171142578,
       "initial": 0,
       "n": 0,
       "ncols": null,
       "nrows": 16,
       "postfix": null,
       "prefix": "",
       "rate": null,
       "total": 313,
       "unit": "it",
       "unit_divisor": 1000,
       "unit_scale": false
      },
      "application/vnd.jupyter.widget-view+json": {
       "model_id": "b1b257c0de884e6ebd70b9ee9f7e974c",
       "version_major": 2,
       "version_minor": 0
      },
      "text/plain": [
       "  0%|          | 0/313 [00:00<?, ?it/s]"
      ]
     },
     "metadata": {},
     "output_type": "display_data"
    },
    {
     "data": {
      "text/plain": [
       "{'top-1': 56.410000000000004, 'top-5': 83.89999999999999}"
      ]
     },
     "execution_count": 8,
     "metadata": {},
     "output_type": "execute_result"
    }
   ],
   "source": [
    "compute_model_performance(state_dict)"
   ]
  }
 ],
 "metadata": {
  "kernelspec": {
   "display_name": "Python [conda env:p3iv] *",
   "language": "python",
   "name": "conda-env-p3iv-py"
  },
  "language_info": {
   "codemirror_mode": {
    "name": "ipython",
    "version": 3
   },
   "file_extension": ".py",
   "mimetype": "text/x-python",
   "name": "python",
   "nbconvert_exporter": "python",
   "pygments_lexer": "ipython3",
   "version": "3.7.3"
  }
 },
 "nbformat": 4,
 "nbformat_minor": 5
}
