{
 "cells": [
  {
   "cell_type": "code",
   "execution_count": 1,
   "id": "7a9fd004",
   "metadata": {},
   "outputs": [],
   "source": [
    "ratio = 0.3\n",
    "from utils.model_compression import _compress_model, _retrive_uncompress_matrix\n",
    "import torch\n",
    "import clip"
   ]
  },
  {
   "cell_type": "code",
   "execution_count": 2,
   "id": "51d41c7a",
   "metadata": {},
   "outputs": [],
   "source": [
    "\"\"\"\n",
    "load original clip model\n",
    "\"\"\"\n",
    "device = \"cuda\" if torch.cuda.is_available() else \"cpu\"\n",
    "device = \"cpu\"\n",
    "model, preprocess = clip.load('ViT-B/32', device)"
   ]
  },
  {
   "cell_type": "code",
   "execution_count": 3,
   "id": "77d8e9e3",
   "metadata": {},
   "outputs": [],
   "source": [
    "def compression_tot(clip_compress_state_dict,state_dict):\n",
    "    total_params = 0\n",
    "    for param_tensor in state_dict.values():\n",
    "        total_params += param_tensor.numel()\n",
    "    \n",
    "    total_params_comp = 0\n",
    "    for param_tensor in clip_compress_state_dict.values():\n",
    "        if isinstance(param_tensor,dict)==True:\n",
    "            for key,value in param_tensor.items():\n",
    "                total_params_comp += value.numel()\n",
    "        else:\n",
    "            total_params_comp += param_tensor.numel()\n",
    "    \n",
    "    return (total_params - total_params_comp)/total_params"
   ]
  },
  {
   "cell_type": "code",
   "execution_count": 7,
   "id": "1104b3a7",
   "metadata": {},
   "outputs": [],
   "source": [
    "from utils.CLIP_ImageNet import compute_model_performance\n",
    "state_dict = model.state_dict()\n",
    "n_layers =  [10+10*i for i in range(5)]\n",
    "n_layers\n",
    "n_ratio  =  [0.1+0.1*i for i in range(9)]\n",
    "n_ratio.reverse()"
   ]
  },
  {
   "cell_type": "code",
   "execution_count": 8,
   "id": "924b9502",
   "metadata": {},
   "outputs": [
    {
     "data": {
      "text/plain": [
       "[0.9, 0.8, 0.7000000000000001, 0.6, 0.5, 0.4, 0.30000000000000004, 0.2, 0.1]"
      ]
     },
     "execution_count": 8,
     "metadata": {},
     "output_type": "execute_result"
    }
   ],
   "source": [
    "n_ratio"
   ]
  },
  {
   "cell_type": "code",
   "execution_count": 9,
   "id": "0fc9467c",
   "metadata": {},
   "outputs": [
    {
     "name": "stdout",
     "output_type": "stream",
     "text": [
      "key-visual.positional_embedding gonna be compressed\n",
      "key-visual.proj gonna be compressed\n",
      "key-visual.transformer.resblocks.0.attn.in_proj_weight gonna be compressed\n",
      "0.001463008534531546\n"
     ]
    },
    {
     "data": {
      "application/json": {
       "ascii": false,
       "bar_format": null,
       "colour": null,
       "elapsed": 0.011580467224121094,
       "initial": 0,
       "n": 0,
       "ncols": null,
       "nrows": 14,
       "postfix": null,
       "prefix": "",
       "rate": null,
       "total": 1000,
       "unit": "it",
       "unit_divisor": 1000,
       "unit_scale": false
      },
      "application/vnd.jupyter.widget-view+json": {
       "model_id": "021133f258bf4d808e6b81e896461811",
       "version_major": 2,
       "version_minor": 0
      },
      "text/plain": [
       "  0%|          | 0/1000 [00:00<?, ?it/s]"
      ]
     },
     "metadata": {},
     "output_type": "display_data"
    },
    {
     "data": {
      "application/json": {
       "ascii": false,
       "bar_format": null,
       "colour": null,
       "elapsed": 0.010411739349365234,
       "initial": 0,
       "n": 0,
       "ncols": null,
       "nrows": 14,
       "postfix": null,
       "prefix": "",
       "rate": null,
       "total": 313,
       "unit": "it",
       "unit_divisor": 1000,
       "unit_scale": false
      },
      "application/vnd.jupyter.widget-view+json": {
       "model_id": "767138e7645f4faf9ad28a43855a91b8",
       "version_major": 2,
       "version_minor": 0
      },
      "text/plain": [
       "  0%|          | 0/313 [00:00<?, ?it/s]"
      ]
     },
     "metadata": {},
     "output_type": "display_data"
    },
    {
     "name": "stdout",
     "output_type": "stream",
     "text": [
      "{0.9: {10: {'perf': {'top-1': 46.77, 'top-5': 76.41}, 'comp': 0.001463008534531546}}}\n",
      "key-visual.positional_embedding gonna be compressed\n",
      "key-visual.proj gonna be compressed\n",
      "key-visual.transformer.resblocks.0.attn.in_proj_weight gonna be compressed\n",
      "key-visual.transformer.resblocks.0.attn.out_proj.weight gonna be compressed\n",
      "key-visual.transformer.resblocks.0.mlp.c_fc.weight gonna be compressed\n",
      "key-visual.transformer.resblocks.0.mlp.c_proj.weight gonna be compressed\n",
      "0.005017322062033188\n"
     ]
    },
    {
     "data": {
      "application/json": {
       "ascii": false,
       "bar_format": null,
       "colour": null,
       "elapsed": 0.00950479507446289,
       "initial": 0,
       "n": 0,
       "ncols": null,
       "nrows": 14,
       "postfix": null,
       "prefix": "",
       "rate": null,
       "total": 1000,
       "unit": "it",
       "unit_divisor": 1000,
       "unit_scale": false
      },
      "application/vnd.jupyter.widget-view+json": {
       "model_id": "7da8e5299c1f45fa9291bec444f4ec51",
       "version_major": 2,
       "version_minor": 0
      },
      "text/plain": [
       "  0%|          | 0/1000 [00:00<?, ?it/s]"
      ]
     },
     "metadata": {},
     "output_type": "display_data"
    },
    {
     "data": {
      "application/json": {
       "ascii": false,
       "bar_format": null,
       "colour": null,
       "elapsed": 0.008297920227050781,
       "initial": 0,
       "n": 0,
       "ncols": null,
       "nrows": 14,
       "postfix": null,
       "prefix": "",
       "rate": null,
       "total": 313,
       "unit": "it",
       "unit_divisor": 1000,
       "unit_scale": false
      },
      "application/vnd.jupyter.widget-view+json": {
       "model_id": "315a38098a144dca8e958ef75347496c",
       "version_major": 2,
       "version_minor": 0
      },
      "text/plain": [
       "  0%|          | 0/313 [00:00<?, ?it/s]"
      ]
     },
     "metadata": {},
     "output_type": "display_data"
    },
    {
     "name": "stdout",
     "output_type": "stream",
     "text": [
      "{0.9: {10: {'perf': {'top-1': 46.77, 'top-5': 76.41}, 'comp': 0.001463008534531546}, 20: {'perf': {'top-1': 47.0, 'top-5': 76.24}, 'comp': 0.005017322062033188}}}\n",
      "key-visual.positional_embedding gonna be compressed\n",
      "key-visual.proj gonna be compressed\n",
      "key-visual.transformer.resblocks.0.attn.in_proj_weight gonna be compressed\n",
      "key-visual.transformer.resblocks.0.attn.out_proj.weight gonna be compressed\n",
      "key-visual.transformer.resblocks.0.mlp.c_fc.weight gonna be compressed\n",
      "key-visual.transformer.resblocks.0.mlp.c_proj.weight gonna be compressed\n",
      "key-visual.transformer.resblocks.1.attn.in_proj_weight gonna be compressed\n",
      "key-visual.transformer.resblocks.1.attn.out_proj.weight gonna be compressed\n",
      "key-visual.transformer.resblocks.1.mlp.c_fc.weight gonna be compressed\n",
      "key-visual.transformer.resblocks.1.mlp.c_proj.weight gonna be compressed\n",
      "0.009746021863833608\n"
     ]
    },
    {
     "data": {
      "application/json": {
       "ascii": false,
       "bar_format": null,
       "colour": null,
       "elapsed": 0.010037422180175781,
       "initial": 0,
       "n": 0,
       "ncols": null,
       "nrows": 14,
       "postfix": null,
       "prefix": "",
       "rate": null,
       "total": 1000,
       "unit": "it",
       "unit_divisor": 1000,
       "unit_scale": false
      },
      "application/vnd.jupyter.widget-view+json": {
       "model_id": "2415d1b0b71c42b498e707b1467fa12f",
       "version_major": 2,
       "version_minor": 0
      },
      "text/plain": [
       "  0%|          | 0/1000 [00:00<?, ?it/s]"
      ]
     },
     "metadata": {},
     "output_type": "display_data"
    },
    {
     "data": {
      "application/json": {
       "ascii": false,
       "bar_format": null,
       "colour": null,
       "elapsed": 0.00860738754272461,
       "initial": 0,
       "n": 0,
       "ncols": null,
       "nrows": 14,
       "postfix": null,
       "prefix": "",
       "rate": null,
       "total": 313,
       "unit": "it",
       "unit_divisor": 1000,
       "unit_scale": false
      },
      "application/vnd.jupyter.widget-view+json": {
       "model_id": "b81bbc379afc4d44a7db00c633ee47d1",
       "version_major": 2,
       "version_minor": 0
      },
      "text/plain": [
       "  0%|          | 0/313 [00:00<?, ?it/s]"
      ]
     },
     "metadata": {},
     "output_type": "display_data"
    },
    {
     "name": "stdout",
     "output_type": "stream",
     "text": [
      "{0.9: {10: {'perf': {'top-1': 46.77, 'top-5': 76.41}, 'comp': 0.001463008534531546}, 20: {'perf': {'top-1': 47.0, 'top-5': 76.24}, 'comp': 0.005017322062033188}, 30: {'perf': {'top-1': 41.3, 'top-5': 69.95}, 'comp': 0.009746021863833608}}}\n",
      "key-visual.positional_embedding gonna be compressed\n",
      "key-visual.proj gonna be compressed\n",
      "key-visual.transformer.resblocks.0.attn.in_proj_weight gonna be compressed\n",
      "key-visual.transformer.resblocks.0.attn.out_proj.weight gonna be compressed\n",
      "key-visual.transformer.resblocks.0.mlp.c_fc.weight gonna be compressed\n",
      "key-visual.transformer.resblocks.0.mlp.c_proj.weight gonna be compressed\n",
      "key-visual.transformer.resblocks.1.attn.in_proj_weight gonna be compressed\n",
      "key-visual.transformer.resblocks.1.attn.out_proj.weight gonna be compressed\n",
      "key-visual.transformer.resblocks.1.mlp.c_fc.weight gonna be compressed\n",
      "key-visual.transformer.resblocks.1.mlp.c_proj.weight gonna be compressed\n",
      "key-visual.transformer.resblocks.2.attn.in_proj_weight gonna be compressed\n",
      "key-visual.transformer.resblocks.2.attn.out_proj.weight gonna be compressed\n",
      "key-visual.transformer.resblocks.2.mlp.c_fc.weight gonna be compressed\n",
      "0.012894418609881046\n"
     ]
    },
    {
     "data": {
      "application/json": {
       "ascii": false,
       "bar_format": null,
       "colour": null,
       "elapsed": 0.009694099426269531,
       "initial": 0,
       "n": 0,
       "ncols": null,
       "nrows": 14,
       "postfix": null,
       "prefix": "",
       "rate": null,
       "total": 1000,
       "unit": "it",
       "unit_divisor": 1000,
       "unit_scale": false
      },
      "application/vnd.jupyter.widget-view+json": {
       "model_id": "2adc9a04c1df44769fa58905d095613c",
       "version_major": 2,
       "version_minor": 0
      },
      "text/plain": [
       "  0%|          | 0/1000 [00:00<?, ?it/s]"
      ]
     },
     "metadata": {},
     "output_type": "display_data"
    },
    {
     "data": {
      "application/json": {
       "ascii": false,
       "bar_format": null,
       "colour": null,
       "elapsed": 0.008664369583129883,
       "initial": 0,
       "n": 0,
       "ncols": null,
       "nrows": 14,
       "postfix": null,
       "prefix": "",
       "rate": null,
       "total": 313,
       "unit": "it",
       "unit_divisor": 1000,
       "unit_scale": false
      },
      "application/vnd.jupyter.widget-view+json": {
       "model_id": "dd0037b6af314042af1c202856eeec2c",
       "version_major": 2,
       "version_minor": 0
      },
      "text/plain": [
       "  0%|          | 0/313 [00:00<?, ?it/s]"
      ]
     },
     "metadata": {},
     "output_type": "display_data"
    },
    {
     "name": "stdout",
     "output_type": "stream",
     "text": [
      "{0.9: {10: {'perf': {'top-1': 46.77, 'top-5': 76.41}, 'comp': 0.001463008534531546}, 20: {'perf': {'top-1': 47.0, 'top-5': 76.24}, 'comp': 0.005017322062033188}, 30: {'perf': {'top-1': 41.3, 'top-5': 69.95}, 'comp': 0.009746021863833608}, 40: {'perf': {'top-1': 37.940000000000005, 'top-5': 66.96}, 'comp': 0.012894418609881046}}}\n",
      "key-visual.positional_embedding gonna be compressed\n",
      "key-visual.proj gonna be compressed\n",
      "key-visual.transformer.resblocks.0.attn.in_proj_weight gonna be compressed\n",
      "key-visual.transformer.resblocks.0.attn.out_proj.weight gonna be compressed\n",
      "key-visual.transformer.resblocks.0.mlp.c_fc.weight gonna be compressed\n",
      "key-visual.transformer.resblocks.0.mlp.c_proj.weight gonna be compressed\n",
      "key-visual.transformer.resblocks.1.attn.in_proj_weight gonna be compressed\n",
      "key-visual.transformer.resblocks.1.attn.out_proj.weight gonna be compressed\n",
      "key-visual.transformer.resblocks.1.mlp.c_fc.weight gonna be compressed\n",
      "key-visual.transformer.resblocks.1.mlp.c_proj.weight gonna be compressed\n",
      "key-visual.transformer.resblocks.2.attn.in_proj_weight gonna be compressed\n",
      "key-visual.transformer.resblocks.2.attn.out_proj.weight gonna be compressed\n",
      "key-visual.transformer.resblocks.2.mlp.c_fc.weight gonna be compressed\n",
      "key-visual.transformer.resblocks.2.mlp.c_proj.weight gonna be compressed\n",
      "key-visual.transformer.resblocks.3.attn.in_proj_weight gonna be compressed\n",
      "key-visual.transformer.resblocks.3.attn.out_proj.weight gonna be compressed\n",
      "0.016042815355928487\n"
     ]
    },
    {
     "data": {
      "application/json": {
       "ascii": false,
       "bar_format": null,
       "colour": null,
       "elapsed": 0.009346723556518555,
       "initial": 0,
       "n": 0,
       "ncols": null,
       "nrows": 14,
       "postfix": null,
       "prefix": "",
       "rate": null,
       "total": 1000,
       "unit": "it",
       "unit_divisor": 1000,
       "unit_scale": false
      },
      "application/vnd.jupyter.widget-view+json": {
       "model_id": "7f36d1281a884925b319a3dc17094b09",
       "version_major": 2,
       "version_minor": 0
      },
      "text/plain": [
       "  0%|          | 0/1000 [00:00<?, ?it/s]"
      ]
     },
     "metadata": {},
     "output_type": "display_data"
    },
    {
     "data": {
      "application/json": {
       "ascii": false,
       "bar_format": null,
       "colour": null,
       "elapsed": 0.008723974227905273,
       "initial": 0,
       "n": 0,
       "ncols": null,
       "nrows": 14,
       "postfix": null,
       "prefix": "",
       "rate": null,
       "total": 313,
       "unit": "it",
       "unit_divisor": 1000,
       "unit_scale": false
      },
      "application/vnd.jupyter.widget-view+json": {
       "model_id": "13aaa18a58d04e8b812547aab9e12a21",
       "version_major": 2,
       "version_minor": 0
      },
      "text/plain": [
       "  0%|          | 0/313 [00:00<?, ?it/s]"
      ]
     },
     "metadata": {},
     "output_type": "display_data"
    },
    {
     "name": "stdout",
     "output_type": "stream",
     "text": [
      "{0.9: {10: {'perf': {'top-1': 46.77, 'top-5': 76.41}, 'comp': 0.001463008534531546}, 20: {'perf': {'top-1': 47.0, 'top-5': 76.24}, 'comp': 0.005017322062033188}, 30: {'perf': {'top-1': 41.3, 'top-5': 69.95}, 'comp': 0.009746021863833608}, 40: {'perf': {'top-1': 37.940000000000005, 'top-5': 66.96}, 'comp': 0.012894418609881046}, 50: {'perf': {'top-1': 36.49, 'top-5': 64.51}, 'comp': 0.016042815355928487}}}\n",
      "key-visual.positional_embedding gonna be compressed\n",
      "key-visual.proj gonna be compressed\n",
      "key-visual.transformer.resblocks.0.attn.in_proj_weight gonna be compressed\n",
      "0.002930776540167659\n"
     ]
    },
    {
     "data": {
      "application/json": {
       "ascii": false,
       "bar_format": null,
       "colour": null,
       "elapsed": 0.010141134262084961,
       "initial": 0,
       "n": 0,
       "ncols": null,
       "nrows": 14,
       "postfix": null,
       "prefix": "",
       "rate": null,
       "total": 1000,
       "unit": "it",
       "unit_divisor": 1000,
       "unit_scale": false
      },
      "application/vnd.jupyter.widget-view+json": {
       "model_id": "adf6c373c16f453da6cfc71131b3d114",
       "version_major": 2,
       "version_minor": 0
      },
      "text/plain": [
       "  0%|          | 0/1000 [00:00<?, ?it/s]"
      ]
     },
     "metadata": {},
     "output_type": "display_data"
    },
    {
     "data": {
      "application/json": {
       "ascii": false,
       "bar_format": null,
       "colour": null,
       "elapsed": 0.00849461555480957,
       "initial": 0,
       "n": 0,
       "ncols": null,
       "nrows": 14,
       "postfix": null,
       "prefix": "",
       "rate": null,
       "total": 313,
       "unit": "it",
       "unit_divisor": 1000,
       "unit_scale": false
      },
      "application/vnd.jupyter.widget-view+json": {
       "model_id": "248a044e0e1644b18829a7d76f6ca36f",
       "version_major": 2,
       "version_minor": 0
      },
      "text/plain": [
       "  0%|          | 0/313 [00:00<?, ?it/s]"
      ]
     },
     "metadata": {},
     "output_type": "display_data"
    },
    {
     "name": "stdout",
     "output_type": "stream",
     "text": [
      "{0.9: {10: {'perf': {'top-1': 46.77, 'top-5': 76.41}, 'comp': 0.001463008534531546}, 20: {'perf': {'top-1': 47.0, 'top-5': 76.24}, 'comp': 0.005017322062033188}, 30: {'perf': {'top-1': 41.3, 'top-5': 69.95}, 'comp': 0.009746021863833608}, 40: {'perf': {'top-1': 37.940000000000005, 'top-5': 66.96}, 'comp': 0.012894418609881046}, 50: {'perf': {'top-1': 36.49, 'top-5': 64.51}, 'comp': 0.016042815355928487}}, 0.8: {10: {'perf': {'top-1': 43.1, 'top-5': 72.07000000000001}, 'comp': 0.002930776540167659}}}\n",
      "key-visual.positional_embedding gonna be compressed\n",
      "key-visual.proj gonna be compressed\n",
      "key-visual.transformer.resblocks.0.attn.in_proj_weight gonna be compressed\n",
      "key-visual.transformer.resblocks.0.attn.out_proj.weight gonna be compressed\n",
      "key-visual.transformer.resblocks.0.mlp.c_fc.weight gonna be compressed\n",
      "key-visual.transformer.resblocks.0.mlp.c_proj.weight gonna be compressed\n",
      "0.00996881138416307\n"
     ]
    },
    {
     "data": {
      "application/json": {
       "ascii": false,
       "bar_format": null,
       "colour": null,
       "elapsed": 0.010263681411743164,
       "initial": 0,
       "n": 0,
       "ncols": null,
       "nrows": 14,
       "postfix": null,
       "prefix": "",
       "rate": null,
       "total": 1000,
       "unit": "it",
       "unit_divisor": 1000,
       "unit_scale": false
      },
      "application/vnd.jupyter.widget-view+json": {
       "model_id": "ae4da598f50640ab8d1935666ebc1e9a",
       "version_major": 2,
       "version_minor": 0
      },
      "text/plain": [
       "  0%|          | 0/1000 [00:00<?, ?it/s]"
      ]
     },
     "metadata": {},
     "output_type": "display_data"
    },
    {
     "data": {
      "application/json": {
       "ascii": false,
       "bar_format": null,
       "colour": null,
       "elapsed": 0.008662223815917969,
       "initial": 0,
       "n": 0,
       "ncols": null,
       "nrows": 14,
       "postfix": null,
       "prefix": "",
       "rate": null,
       "total": 313,
       "unit": "it",
       "unit_divisor": 1000,
       "unit_scale": false
      },
      "application/vnd.jupyter.widget-view+json": {
       "model_id": "914462e61c36461a9384bdcff30ecc1f",
       "version_major": 2,
       "version_minor": 0
      },
      "text/plain": [
       "  0%|          | 0/313 [00:00<?, ?it/s]"
      ]
     },
     "metadata": {},
     "output_type": "display_data"
    },
    {
     "name": "stdout",
     "output_type": "stream",
     "text": [
      "{0.9: {10: {'perf': {'top-1': 46.77, 'top-5': 76.41}, 'comp': 0.001463008534531546}, 20: {'perf': {'top-1': 47.0, 'top-5': 76.24}, 'comp': 0.005017322062033188}, 30: {'perf': {'top-1': 41.3, 'top-5': 69.95}, 'comp': 0.009746021863833608}, 40: {'perf': {'top-1': 37.940000000000005, 'top-5': 66.96}, 'comp': 0.012894418609881046}, 50: {'perf': {'top-1': 36.49, 'top-5': 64.51}, 'comp': 0.016042815355928487}}, 0.8: {10: {'perf': {'top-1': 43.1, 'top-5': 72.07000000000001}, 'comp': 0.002930776540167659}, 20: {'perf': {'top-1': 43.62, 'top-5': 72.32}, 'comp': 0.00996881138416307}}}\n",
      "key-visual.positional_embedding gonna be compressed\n",
      "key-visual.proj gonna be compressed\n",
      "key-visual.transformer.resblocks.0.attn.in_proj_weight gonna be compressed\n",
      "key-visual.transformer.resblocks.0.attn.out_proj.weight gonna be compressed\n",
      "key-visual.transformer.resblocks.0.mlp.c_fc.weight gonna be compressed\n",
      "key-visual.transformer.resblocks.0.mlp.c_proj.weight gonna be compressed\n",
      "key-visual.transformer.resblocks.1.attn.in_proj_weight gonna be compressed\n",
      "key-visual.transformer.resblocks.1.attn.out_proj.weight gonna be compressed\n",
      "key-visual.transformer.resblocks.1.mlp.c_fc.weight gonna be compressed\n",
      "key-visual.transformer.resblocks.1.mlp.c_proj.weight gonna be compressed\n",
      "0.01935942635363969\n"
     ]
    },
    {
     "data": {
      "application/json": {
       "ascii": false,
       "bar_format": null,
       "colour": null,
       "elapsed": 0.009881258010864258,
       "initial": 0,
       "n": 0,
       "ncols": null,
       "nrows": 14,
       "postfix": null,
       "prefix": "",
       "rate": null,
       "total": 1000,
       "unit": "it",
       "unit_divisor": 1000,
       "unit_scale": false
      },
      "application/vnd.jupyter.widget-view+json": {
       "model_id": "9e234655fc16463f8be91e61c8375b42",
       "version_major": 2,
       "version_minor": 0
      },
      "text/plain": [
       "  0%|          | 0/1000 [00:00<?, ?it/s]"
      ]
     },
     "metadata": {},
     "output_type": "display_data"
    },
    {
     "ename": "KeyboardInterrupt",
     "evalue": "",
     "output_type": "error",
     "traceback": [
      "\u001b[0;31m---------------------------------------------------------------------------\u001b[0m",
      "\u001b[0;31mKeyboardInterrupt\u001b[0m                         Traceback (most recent call last)",
      "\u001b[0;32m/var/tmp/ipykernel_10462/1053759757.py\u001b[0m in \u001b[0;36m<module>\u001b[0;34m\u001b[0m\n\u001b[1;32m      8\u001b[0m         \u001b[0mclip_uncompress_state_dict\u001b[0m \u001b[0;34m=\u001b[0m \u001b[0m_retrive_uncompress_matrix\u001b[0m\u001b[0;34m(\u001b[0m\u001b[0mclip_compress_state_dict\u001b[0m\u001b[0;34m)\u001b[0m\u001b[0;34m\u001b[0m\u001b[0;34m\u001b[0m\u001b[0m\n\u001b[1;32m      9\u001b[0m         \u001b[0mprint\u001b[0m\u001b[0;34m(\u001b[0m\u001b[0mcompression_tot\u001b[0m\u001b[0;34m(\u001b[0m\u001b[0mclip_compress_state_dict\u001b[0m\u001b[0;34m,\u001b[0m\u001b[0mstate_dict\u001b[0m\u001b[0;34m)\u001b[0m\u001b[0;34m)\u001b[0m\u001b[0;34m\u001b[0m\u001b[0;34m\u001b[0m\u001b[0m\n\u001b[0;32m---> 10\u001b[0;31m         \u001b[0mresult_vis_only_from_start\u001b[0m\u001b[0;34m[\u001b[0m\u001b[0mratio\u001b[0m\u001b[0;34m]\u001b[0m\u001b[0;34m[\u001b[0m\u001b[0mlayer\u001b[0m\u001b[0;34m]\u001b[0m\u001b[0;34m[\u001b[0m\u001b[0;34m'perf'\u001b[0m\u001b[0;34m]\u001b[0m \u001b[0;34m=\u001b[0m \u001b[0mcompute_model_performance\u001b[0m\u001b[0;34m(\u001b[0m\u001b[0mclip_uncompress_state_dict\u001b[0m\u001b[0;34m)\u001b[0m\u001b[0;34m\u001b[0m\u001b[0;34m\u001b[0m\u001b[0m\n\u001b[0m\u001b[1;32m     11\u001b[0m         \u001b[0mresult_vis_only_from_start\u001b[0m\u001b[0;34m[\u001b[0m\u001b[0mratio\u001b[0m\u001b[0;34m]\u001b[0m\u001b[0;34m[\u001b[0m\u001b[0mlayer\u001b[0m\u001b[0;34m]\u001b[0m\u001b[0;34m[\u001b[0m\u001b[0;34m'comp'\u001b[0m\u001b[0;34m]\u001b[0m \u001b[0;34m=\u001b[0m \u001b[0mcompression_tot\u001b[0m\u001b[0;34m(\u001b[0m\u001b[0mclip_compress_state_dict\u001b[0m\u001b[0;34m,\u001b[0m\u001b[0mstate_dict\u001b[0m\u001b[0;34m)\u001b[0m\u001b[0;34m\u001b[0m\u001b[0;34m\u001b[0m\u001b[0m\n\u001b[1;32m     12\u001b[0m         \u001b[0mprint\u001b[0m\u001b[0;34m(\u001b[0m\u001b[0mresult_vis_only_from_start\u001b[0m\u001b[0;34m)\u001b[0m\u001b[0;34m\u001b[0m\u001b[0;34m\u001b[0m\u001b[0m\n",
      "\u001b[0;32m~/hpml_project/E6998/E6998-HPML-TermProject/utils/CLIP_ImageNet.py\u001b[0m in \u001b[0;36mcompute_model_performance\u001b[0;34m(model_dict)\u001b[0m\n\u001b[1;32m     53\u001b[0m     \u001b[0mloader\u001b[0m \u001b[0;34m=\u001b[0m \u001b[0mtorch\u001b[0m\u001b[0;34m.\u001b[0m\u001b[0mutils\u001b[0m\u001b[0;34m.\u001b[0m\u001b[0mdata\u001b[0m\u001b[0;34m.\u001b[0m\u001b[0mDataLoader\u001b[0m\u001b[0;34m(\u001b[0m\u001b[0mimages\u001b[0m\u001b[0;34m,\u001b[0m \u001b[0mbatch_size\u001b[0m\u001b[0;34m=\u001b[0m\u001b[0;36m32\u001b[0m\u001b[0;34m,\u001b[0m \u001b[0mnum_workers\u001b[0m\u001b[0;34m=\u001b[0m\u001b[0;36m2\u001b[0m\u001b[0;34m)\u001b[0m\u001b[0;34m\u001b[0m\u001b[0;34m\u001b[0m\u001b[0m\n\u001b[1;32m     54\u001b[0m     \u001b[0mimagenet_classes\u001b[0m\u001b[0;34m,\u001b[0m \u001b[0mimagenet_templates\u001b[0m \u001b[0;34m=\u001b[0m \u001b[0mload_imagenet_classes\u001b[0m\u001b[0;34m(\u001b[0m\u001b[0;34m)\u001b[0m\u001b[0;34m\u001b[0m\u001b[0;34m\u001b[0m\u001b[0m\n\u001b[0;32m---> 55\u001b[0;31m     \u001b[0mzeroshot_weights\u001b[0m \u001b[0;34m=\u001b[0m \u001b[0mzeroshot_classifier\u001b[0m\u001b[0;34m(\u001b[0m\u001b[0mimagenet_classes\u001b[0m\u001b[0;34m,\u001b[0m \u001b[0mimagenet_templates\u001b[0m\u001b[0;34m,\u001b[0m \u001b[0mmodel\u001b[0m\u001b[0;34m)\u001b[0m\u001b[0;34m\u001b[0m\u001b[0;34m\u001b[0m\u001b[0m\n\u001b[0m\u001b[1;32m     56\u001b[0m     \u001b[0;32mwith\u001b[0m \u001b[0mtorch\u001b[0m\u001b[0;34m.\u001b[0m\u001b[0mno_grad\u001b[0m\u001b[0;34m(\u001b[0m\u001b[0;34m)\u001b[0m\u001b[0;34m:\u001b[0m\u001b[0;34m\u001b[0m\u001b[0;34m\u001b[0m\u001b[0m\n\u001b[1;32m     57\u001b[0m         \u001b[0mtop1\u001b[0m\u001b[0;34m,\u001b[0m \u001b[0mtop5\u001b[0m\u001b[0;34m,\u001b[0m \u001b[0mn\u001b[0m \u001b[0;34m=\u001b[0m \u001b[0;36m0.\u001b[0m\u001b[0;34m,\u001b[0m \u001b[0;36m0.\u001b[0m\u001b[0;34m,\u001b[0m \u001b[0;36m0.\u001b[0m\u001b[0;34m\u001b[0m\u001b[0;34m\u001b[0m\u001b[0m\n",
      "\u001b[0;32m~/hpml_project/E6998/E6998-HPML-TermProject/utils/CLIP_ImageNet.py\u001b[0m in \u001b[0;36mzeroshot_classifier\u001b[0;34m(classnames, templates, model)\u001b[0m\n\u001b[1;32m     30\u001b[0m             \u001b[0mtexts\u001b[0m \u001b[0;34m=\u001b[0m \u001b[0;34m[\u001b[0m\u001b[0mtemplate\u001b[0m\u001b[0;34m.\u001b[0m\u001b[0mformat\u001b[0m\u001b[0;34m(\u001b[0m\u001b[0mclassname\u001b[0m\u001b[0;34m)\u001b[0m \u001b[0;32mfor\u001b[0m \u001b[0mtemplate\u001b[0m \u001b[0;32min\u001b[0m \u001b[0mtemplates\u001b[0m\u001b[0;34m]\u001b[0m \u001b[0;31m#format with class\u001b[0m\u001b[0;34m\u001b[0m\u001b[0;34m\u001b[0m\u001b[0m\n\u001b[1;32m     31\u001b[0m             \u001b[0mtexts\u001b[0m \u001b[0;34m=\u001b[0m \u001b[0mclip\u001b[0m\u001b[0;34m.\u001b[0m\u001b[0mtokenize\u001b[0m\u001b[0;34m(\u001b[0m\u001b[0mtexts\u001b[0m\u001b[0;34m)\u001b[0m\u001b[0;34m.\u001b[0m\u001b[0mcuda\u001b[0m\u001b[0;34m(\u001b[0m\u001b[0;34m)\u001b[0m \u001b[0;31m#tokenize\u001b[0m\u001b[0;34m\u001b[0m\u001b[0;34m\u001b[0m\u001b[0m\n\u001b[0;32m---> 32\u001b[0;31m             \u001b[0mclass_embeddings\u001b[0m \u001b[0;34m=\u001b[0m \u001b[0mmodel\u001b[0m\u001b[0;34m.\u001b[0m\u001b[0mencode_text\u001b[0m\u001b[0;34m(\u001b[0m\u001b[0mtexts\u001b[0m\u001b[0;34m)\u001b[0m \u001b[0;31m#embed with text encoder\u001b[0m\u001b[0;34m\u001b[0m\u001b[0;34m\u001b[0m\u001b[0m\n\u001b[0m\u001b[1;32m     33\u001b[0m             \u001b[0mclass_embeddings\u001b[0m \u001b[0;34m/=\u001b[0m \u001b[0mclass_embeddings\u001b[0m\u001b[0;34m.\u001b[0m\u001b[0mnorm\u001b[0m\u001b[0;34m(\u001b[0m\u001b[0mdim\u001b[0m\u001b[0;34m=\u001b[0m\u001b[0;34m-\u001b[0m\u001b[0;36m1\u001b[0m\u001b[0;34m,\u001b[0m \u001b[0mkeepdim\u001b[0m\u001b[0;34m=\u001b[0m\u001b[0;32mTrue\u001b[0m\u001b[0;34m)\u001b[0m\u001b[0;34m\u001b[0m\u001b[0;34m\u001b[0m\u001b[0m\n\u001b[1;32m     34\u001b[0m             \u001b[0mclass_embedding\u001b[0m \u001b[0;34m=\u001b[0m \u001b[0mclass_embeddings\u001b[0m\u001b[0;34m.\u001b[0m\u001b[0mmean\u001b[0m\u001b[0;34m(\u001b[0m\u001b[0mdim\u001b[0m\u001b[0;34m=\u001b[0m\u001b[0;36m0\u001b[0m\u001b[0;34m)\u001b[0m\u001b[0;34m\u001b[0m\u001b[0;34m\u001b[0m\u001b[0m\n",
      "\u001b[0;32m/opt/conda/envs/p3iv/lib/python3.7/site-packages/clip/model.py\u001b[0m in \u001b[0;36mencode_text\u001b[0;34m(self, text)\u001b[0m\n\u001b[1;32m    346\u001b[0m         \u001b[0mx\u001b[0m \u001b[0;34m=\u001b[0m \u001b[0mx\u001b[0m \u001b[0;34m+\u001b[0m \u001b[0mself\u001b[0m\u001b[0;34m.\u001b[0m\u001b[0mpositional_embedding\u001b[0m\u001b[0;34m.\u001b[0m\u001b[0mtype\u001b[0m\u001b[0;34m(\u001b[0m\u001b[0mself\u001b[0m\u001b[0;34m.\u001b[0m\u001b[0mdtype\u001b[0m\u001b[0;34m)\u001b[0m\u001b[0;34m\u001b[0m\u001b[0;34m\u001b[0m\u001b[0m\n\u001b[1;32m    347\u001b[0m         \u001b[0mx\u001b[0m \u001b[0;34m=\u001b[0m \u001b[0mx\u001b[0m\u001b[0;34m.\u001b[0m\u001b[0mpermute\u001b[0m\u001b[0;34m(\u001b[0m\u001b[0;36m1\u001b[0m\u001b[0;34m,\u001b[0m \u001b[0;36m0\u001b[0m\u001b[0;34m,\u001b[0m \u001b[0;36m2\u001b[0m\u001b[0;34m)\u001b[0m  \u001b[0;31m# NLD -> LND\u001b[0m\u001b[0;34m\u001b[0m\u001b[0;34m\u001b[0m\u001b[0m\n\u001b[0;32m--> 348\u001b[0;31m         \u001b[0mx\u001b[0m \u001b[0;34m=\u001b[0m \u001b[0mself\u001b[0m\u001b[0;34m.\u001b[0m\u001b[0mtransformer\u001b[0m\u001b[0;34m(\u001b[0m\u001b[0mx\u001b[0m\u001b[0;34m)\u001b[0m\u001b[0;34m\u001b[0m\u001b[0;34m\u001b[0m\u001b[0m\n\u001b[0m\u001b[1;32m    349\u001b[0m         \u001b[0mx\u001b[0m \u001b[0;34m=\u001b[0m \u001b[0mx\u001b[0m\u001b[0;34m.\u001b[0m\u001b[0mpermute\u001b[0m\u001b[0;34m(\u001b[0m\u001b[0;36m1\u001b[0m\u001b[0;34m,\u001b[0m \u001b[0;36m0\u001b[0m\u001b[0;34m,\u001b[0m \u001b[0;36m2\u001b[0m\u001b[0;34m)\u001b[0m  \u001b[0;31m# LND -> NLD\u001b[0m\u001b[0;34m\u001b[0m\u001b[0;34m\u001b[0m\u001b[0m\n\u001b[1;32m    350\u001b[0m         \u001b[0mx\u001b[0m \u001b[0;34m=\u001b[0m \u001b[0mself\u001b[0m\u001b[0;34m.\u001b[0m\u001b[0mln_final\u001b[0m\u001b[0;34m(\u001b[0m\u001b[0mx\u001b[0m\u001b[0;34m)\u001b[0m\u001b[0;34m.\u001b[0m\u001b[0mtype\u001b[0m\u001b[0;34m(\u001b[0m\u001b[0mself\u001b[0m\u001b[0;34m.\u001b[0m\u001b[0mdtype\u001b[0m\u001b[0;34m)\u001b[0m\u001b[0;34m\u001b[0m\u001b[0;34m\u001b[0m\u001b[0m\n",
      "\u001b[0;32m/opt/conda/envs/p3iv/lib/python3.7/site-packages/torch/nn/modules/module.py\u001b[0m in \u001b[0;36m_call_impl\u001b[0;34m(self, *input, **kwargs)\u001b[0m\n\u001b[1;32m    887\u001b[0m             \u001b[0mresult\u001b[0m \u001b[0;34m=\u001b[0m \u001b[0mself\u001b[0m\u001b[0;34m.\u001b[0m\u001b[0m_slow_forward\u001b[0m\u001b[0;34m(\u001b[0m\u001b[0;34m*\u001b[0m\u001b[0minput\u001b[0m\u001b[0;34m,\u001b[0m \u001b[0;34m**\u001b[0m\u001b[0mkwargs\u001b[0m\u001b[0;34m)\u001b[0m\u001b[0;34m\u001b[0m\u001b[0;34m\u001b[0m\u001b[0m\n\u001b[1;32m    888\u001b[0m         \u001b[0;32melse\u001b[0m\u001b[0;34m:\u001b[0m\u001b[0;34m\u001b[0m\u001b[0;34m\u001b[0m\u001b[0m\n\u001b[0;32m--> 889\u001b[0;31m             \u001b[0mresult\u001b[0m \u001b[0;34m=\u001b[0m \u001b[0mself\u001b[0m\u001b[0;34m.\u001b[0m\u001b[0mforward\u001b[0m\u001b[0;34m(\u001b[0m\u001b[0;34m*\u001b[0m\u001b[0minput\u001b[0m\u001b[0;34m,\u001b[0m \u001b[0;34m**\u001b[0m\u001b[0mkwargs\u001b[0m\u001b[0;34m)\u001b[0m\u001b[0;34m\u001b[0m\u001b[0;34m\u001b[0m\u001b[0m\n\u001b[0m\u001b[1;32m    890\u001b[0m         for hook in itertools.chain(\n\u001b[1;32m    891\u001b[0m                 \u001b[0m_global_forward_hooks\u001b[0m\u001b[0;34m.\u001b[0m\u001b[0mvalues\u001b[0m\u001b[0;34m(\u001b[0m\u001b[0;34m)\u001b[0m\u001b[0;34m,\u001b[0m\u001b[0;34m\u001b[0m\u001b[0;34m\u001b[0m\u001b[0m\n",
      "\u001b[0;32m/opt/conda/envs/p3iv/lib/python3.7/site-packages/clip/model.py\u001b[0m in \u001b[0;36mforward\u001b[0;34m(self, x)\u001b[0m\n\u001b[1;32m    201\u001b[0m \u001b[0;34m\u001b[0m\u001b[0m\n\u001b[1;32m    202\u001b[0m     \u001b[0;32mdef\u001b[0m \u001b[0mforward\u001b[0m\u001b[0;34m(\u001b[0m\u001b[0mself\u001b[0m\u001b[0;34m,\u001b[0m \u001b[0mx\u001b[0m\u001b[0;34m:\u001b[0m \u001b[0mtorch\u001b[0m\u001b[0;34m.\u001b[0m\u001b[0mTensor\u001b[0m\u001b[0;34m)\u001b[0m\u001b[0;34m:\u001b[0m\u001b[0;34m\u001b[0m\u001b[0;34m\u001b[0m\u001b[0m\n\u001b[0;32m--> 203\u001b[0;31m         \u001b[0;32mreturn\u001b[0m \u001b[0mself\u001b[0m\u001b[0;34m.\u001b[0m\u001b[0mresblocks\u001b[0m\u001b[0;34m(\u001b[0m\u001b[0mx\u001b[0m\u001b[0;34m)\u001b[0m\u001b[0;34m\u001b[0m\u001b[0;34m\u001b[0m\u001b[0m\n\u001b[0m\u001b[1;32m    204\u001b[0m \u001b[0;34m\u001b[0m\u001b[0m\n\u001b[1;32m    205\u001b[0m \u001b[0;34m\u001b[0m\u001b[0m\n",
      "\u001b[0;32m/opt/conda/envs/p3iv/lib/python3.7/site-packages/torch/nn/modules/module.py\u001b[0m in \u001b[0;36m_call_impl\u001b[0;34m(self, *input, **kwargs)\u001b[0m\n\u001b[1;32m    887\u001b[0m             \u001b[0mresult\u001b[0m \u001b[0;34m=\u001b[0m \u001b[0mself\u001b[0m\u001b[0;34m.\u001b[0m\u001b[0m_slow_forward\u001b[0m\u001b[0;34m(\u001b[0m\u001b[0;34m*\u001b[0m\u001b[0minput\u001b[0m\u001b[0;34m,\u001b[0m \u001b[0;34m**\u001b[0m\u001b[0mkwargs\u001b[0m\u001b[0;34m)\u001b[0m\u001b[0;34m\u001b[0m\u001b[0;34m\u001b[0m\u001b[0m\n\u001b[1;32m    888\u001b[0m         \u001b[0;32melse\u001b[0m\u001b[0;34m:\u001b[0m\u001b[0;34m\u001b[0m\u001b[0;34m\u001b[0m\u001b[0m\n\u001b[0;32m--> 889\u001b[0;31m             \u001b[0mresult\u001b[0m \u001b[0;34m=\u001b[0m \u001b[0mself\u001b[0m\u001b[0;34m.\u001b[0m\u001b[0mforward\u001b[0m\u001b[0;34m(\u001b[0m\u001b[0;34m*\u001b[0m\u001b[0minput\u001b[0m\u001b[0;34m,\u001b[0m \u001b[0;34m**\u001b[0m\u001b[0mkwargs\u001b[0m\u001b[0;34m)\u001b[0m\u001b[0;34m\u001b[0m\u001b[0;34m\u001b[0m\u001b[0m\n\u001b[0m\u001b[1;32m    890\u001b[0m         for hook in itertools.chain(\n\u001b[1;32m    891\u001b[0m                 \u001b[0m_global_forward_hooks\u001b[0m\u001b[0;34m.\u001b[0m\u001b[0mvalues\u001b[0m\u001b[0;34m(\u001b[0m\u001b[0;34m)\u001b[0m\u001b[0;34m,\u001b[0m\u001b[0;34m\u001b[0m\u001b[0;34m\u001b[0m\u001b[0m\n",
      "\u001b[0;32m/opt/conda/envs/p3iv/lib/python3.7/site-packages/torch/nn/modules/container.py\u001b[0m in \u001b[0;36mforward\u001b[0;34m(self, input)\u001b[0m\n\u001b[1;32m    117\u001b[0m     \u001b[0;32mdef\u001b[0m \u001b[0mforward\u001b[0m\u001b[0;34m(\u001b[0m\u001b[0mself\u001b[0m\u001b[0;34m,\u001b[0m \u001b[0minput\u001b[0m\u001b[0;34m)\u001b[0m\u001b[0;34m:\u001b[0m\u001b[0;34m\u001b[0m\u001b[0;34m\u001b[0m\u001b[0m\n\u001b[1;32m    118\u001b[0m         \u001b[0;32mfor\u001b[0m \u001b[0mmodule\u001b[0m \u001b[0;32min\u001b[0m \u001b[0mself\u001b[0m\u001b[0;34m:\u001b[0m\u001b[0;34m\u001b[0m\u001b[0;34m\u001b[0m\u001b[0m\n\u001b[0;32m--> 119\u001b[0;31m             \u001b[0minput\u001b[0m \u001b[0;34m=\u001b[0m \u001b[0mmodule\u001b[0m\u001b[0;34m(\u001b[0m\u001b[0minput\u001b[0m\u001b[0;34m)\u001b[0m\u001b[0;34m\u001b[0m\u001b[0;34m\u001b[0m\u001b[0m\n\u001b[0m\u001b[1;32m    120\u001b[0m         \u001b[0;32mreturn\u001b[0m \u001b[0minput\u001b[0m\u001b[0;34m\u001b[0m\u001b[0;34m\u001b[0m\u001b[0m\n\u001b[1;32m    121\u001b[0m \u001b[0;34m\u001b[0m\u001b[0m\n",
      "\u001b[0;32m/opt/conda/envs/p3iv/lib/python3.7/site-packages/torch/nn/modules/module.py\u001b[0m in \u001b[0;36m_call_impl\u001b[0;34m(self, *input, **kwargs)\u001b[0m\n\u001b[1;32m    887\u001b[0m             \u001b[0mresult\u001b[0m \u001b[0;34m=\u001b[0m \u001b[0mself\u001b[0m\u001b[0;34m.\u001b[0m\u001b[0m_slow_forward\u001b[0m\u001b[0;34m(\u001b[0m\u001b[0;34m*\u001b[0m\u001b[0minput\u001b[0m\u001b[0;34m,\u001b[0m \u001b[0;34m**\u001b[0m\u001b[0mkwargs\u001b[0m\u001b[0;34m)\u001b[0m\u001b[0;34m\u001b[0m\u001b[0;34m\u001b[0m\u001b[0m\n\u001b[1;32m    888\u001b[0m         \u001b[0;32melse\u001b[0m\u001b[0;34m:\u001b[0m\u001b[0;34m\u001b[0m\u001b[0;34m\u001b[0m\u001b[0m\n\u001b[0;32m--> 889\u001b[0;31m             \u001b[0mresult\u001b[0m \u001b[0;34m=\u001b[0m \u001b[0mself\u001b[0m\u001b[0;34m.\u001b[0m\u001b[0mforward\u001b[0m\u001b[0;34m(\u001b[0m\u001b[0;34m*\u001b[0m\u001b[0minput\u001b[0m\u001b[0;34m,\u001b[0m \u001b[0;34m**\u001b[0m\u001b[0mkwargs\u001b[0m\u001b[0;34m)\u001b[0m\u001b[0;34m\u001b[0m\u001b[0;34m\u001b[0m\u001b[0m\n\u001b[0m\u001b[1;32m    890\u001b[0m         for hook in itertools.chain(\n\u001b[1;32m    891\u001b[0m                 \u001b[0m_global_forward_hooks\u001b[0m\u001b[0;34m.\u001b[0m\u001b[0mvalues\u001b[0m\u001b[0;34m(\u001b[0m\u001b[0;34m)\u001b[0m\u001b[0;34m,\u001b[0m\u001b[0;34m\u001b[0m\u001b[0;34m\u001b[0m\u001b[0m\n",
      "\u001b[0;32m/opt/conda/envs/p3iv/lib/python3.7/site-packages/clip/model.py\u001b[0m in \u001b[0;36mforward\u001b[0;34m(self, x)\u001b[0m\n\u001b[1;32m    188\u001b[0m \u001b[0;34m\u001b[0m\u001b[0m\n\u001b[1;32m    189\u001b[0m     \u001b[0;32mdef\u001b[0m \u001b[0mforward\u001b[0m\u001b[0;34m(\u001b[0m\u001b[0mself\u001b[0m\u001b[0;34m,\u001b[0m \u001b[0mx\u001b[0m\u001b[0;34m:\u001b[0m \u001b[0mtorch\u001b[0m\u001b[0;34m.\u001b[0m\u001b[0mTensor\u001b[0m\u001b[0;34m)\u001b[0m\u001b[0;34m:\u001b[0m\u001b[0;34m\u001b[0m\u001b[0;34m\u001b[0m\u001b[0m\n\u001b[0;32m--> 190\u001b[0;31m         \u001b[0mx\u001b[0m \u001b[0;34m=\u001b[0m \u001b[0mx\u001b[0m \u001b[0;34m+\u001b[0m \u001b[0mself\u001b[0m\u001b[0;34m.\u001b[0m\u001b[0mattention\u001b[0m\u001b[0;34m(\u001b[0m\u001b[0mself\u001b[0m\u001b[0;34m.\u001b[0m\u001b[0mln_1\u001b[0m\u001b[0;34m(\u001b[0m\u001b[0mx\u001b[0m\u001b[0;34m)\u001b[0m\u001b[0;34m)\u001b[0m\u001b[0;34m\u001b[0m\u001b[0;34m\u001b[0m\u001b[0m\n\u001b[0m\u001b[1;32m    191\u001b[0m         \u001b[0mx\u001b[0m \u001b[0;34m=\u001b[0m \u001b[0mx\u001b[0m \u001b[0;34m+\u001b[0m \u001b[0mself\u001b[0m\u001b[0;34m.\u001b[0m\u001b[0mmlp\u001b[0m\u001b[0;34m(\u001b[0m\u001b[0mself\u001b[0m\u001b[0;34m.\u001b[0m\u001b[0mln_2\u001b[0m\u001b[0;34m(\u001b[0m\u001b[0mx\u001b[0m\u001b[0;34m)\u001b[0m\u001b[0;34m)\u001b[0m\u001b[0;34m\u001b[0m\u001b[0;34m\u001b[0m\u001b[0m\n\u001b[1;32m    192\u001b[0m         \u001b[0;32mreturn\u001b[0m \u001b[0mx\u001b[0m\u001b[0;34m\u001b[0m\u001b[0;34m\u001b[0m\u001b[0m\n",
      "\u001b[0;32m/opt/conda/envs/p3iv/lib/python3.7/site-packages/clip/model.py\u001b[0m in \u001b[0;36mattention\u001b[0;34m(self, x)\u001b[0m\n\u001b[1;32m    184\u001b[0m \u001b[0;34m\u001b[0m\u001b[0m\n\u001b[1;32m    185\u001b[0m     \u001b[0;32mdef\u001b[0m \u001b[0mattention\u001b[0m\u001b[0;34m(\u001b[0m\u001b[0mself\u001b[0m\u001b[0;34m,\u001b[0m \u001b[0mx\u001b[0m\u001b[0;34m:\u001b[0m \u001b[0mtorch\u001b[0m\u001b[0;34m.\u001b[0m\u001b[0mTensor\u001b[0m\u001b[0;34m)\u001b[0m\u001b[0;34m:\u001b[0m\u001b[0;34m\u001b[0m\u001b[0;34m\u001b[0m\u001b[0m\n\u001b[0;32m--> 186\u001b[0;31m         \u001b[0mself\u001b[0m\u001b[0;34m.\u001b[0m\u001b[0mattn_mask\u001b[0m \u001b[0;34m=\u001b[0m \u001b[0mself\u001b[0m\u001b[0;34m.\u001b[0m\u001b[0mattn_mask\u001b[0m\u001b[0;34m.\u001b[0m\u001b[0mto\u001b[0m\u001b[0;34m(\u001b[0m\u001b[0mdtype\u001b[0m\u001b[0;34m=\u001b[0m\u001b[0mx\u001b[0m\u001b[0;34m.\u001b[0m\u001b[0mdtype\u001b[0m\u001b[0;34m,\u001b[0m \u001b[0mdevice\u001b[0m\u001b[0;34m=\u001b[0m\u001b[0mx\u001b[0m\u001b[0;34m.\u001b[0m\u001b[0mdevice\u001b[0m\u001b[0;34m)\u001b[0m \u001b[0;32mif\u001b[0m \u001b[0mself\u001b[0m\u001b[0;34m.\u001b[0m\u001b[0mattn_mask\u001b[0m \u001b[0;32mis\u001b[0m \u001b[0;32mnot\u001b[0m \u001b[0;32mNone\u001b[0m \u001b[0;32melse\u001b[0m \u001b[0;32mNone\u001b[0m\u001b[0;34m\u001b[0m\u001b[0;34m\u001b[0m\u001b[0m\n\u001b[0m\u001b[1;32m    187\u001b[0m         \u001b[0;32mreturn\u001b[0m \u001b[0mself\u001b[0m\u001b[0;34m.\u001b[0m\u001b[0mattn\u001b[0m\u001b[0;34m(\u001b[0m\u001b[0mx\u001b[0m\u001b[0;34m,\u001b[0m \u001b[0mx\u001b[0m\u001b[0;34m,\u001b[0m \u001b[0mx\u001b[0m\u001b[0;34m,\u001b[0m \u001b[0mneed_weights\u001b[0m\u001b[0;34m=\u001b[0m\u001b[0;32mFalse\u001b[0m\u001b[0;34m,\u001b[0m \u001b[0mattn_mask\u001b[0m\u001b[0;34m=\u001b[0m\u001b[0mself\u001b[0m\u001b[0;34m.\u001b[0m\u001b[0mattn_mask\u001b[0m\u001b[0;34m)\u001b[0m\u001b[0;34m[\u001b[0m\u001b[0;36m0\u001b[0m\u001b[0;34m]\u001b[0m\u001b[0;34m\u001b[0m\u001b[0;34m\u001b[0m\u001b[0m\n\u001b[1;32m    188\u001b[0m \u001b[0;34m\u001b[0m\u001b[0m\n",
      "\u001b[0;31mKeyboardInterrupt\u001b[0m: "
     ]
    }
   ],
   "source": [
    "# Attention\n",
    "result_vis_only_from_start = {}\n",
    "for ratio in n_ratio:\n",
    "    result_vis_only_from_start[ratio] = {}\n",
    "    for layer in n_layers:\n",
    "        result_vis_only_from_start[ratio][layer] = {}\n",
    "        clip_compress_state_dict, layers_skipped = _compress_model(state_dict, ratio, layer,True, False,[''], 0)\n",
    "        clip_uncompress_state_dict = _retrive_uncompress_matrix(clip_compress_state_dict)\n",
    "        print(compression_tot(clip_compress_state_dict,state_dict))\n",
    "        result_vis_only_from_start[ratio][layer]['perf'] = compute_model_performance(clip_uncompress_state_dict)\n",
    "        result_vis_only_from_start[ratio][layer]['comp'] = compression_tot(clip_compress_state_dict,state_dict)\n",
    "        print(result_vis_only_from_start)"
   ]
  },
  {
   "cell_type": "code",
   "execution_count": 10,
   "id": "a8517b2e",
   "metadata": {},
   "outputs": [
    {
     "data": {
      "text/plain": [
       "'/home/ks4038_columbia_edu/hpml_project/E6998/E6998-HPML-TermProject'"
      ]
     },
     "execution_count": 10,
     "metadata": {},
     "output_type": "execute_result"
    }
   ],
   "source": [
    "pwd"
   ]
  },
  {
   "cell_type": "code",
   "execution_count": null,
   "id": "5f9c26cc",
   "metadata": {},
   "outputs": [],
   "source": []
  }
 ],
 "metadata": {
  "kernelspec": {
   "display_name": "Python [conda env:p3iv] *",
   "language": "python",
   "name": "conda-env-p3iv-py"
  },
  "language_info": {
   "codemirror_mode": {
    "name": "ipython",
    "version": 3
   },
   "file_extension": ".py",
   "mimetype": "text/x-python",
   "name": "python",
   "nbconvert_exporter": "python",
   "pygments_lexer": "ipython3",
   "version": "3.7.3"
  }
 },
 "nbformat": 4,
 "nbformat_minor": 5
}
